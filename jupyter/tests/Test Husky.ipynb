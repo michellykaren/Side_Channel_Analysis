{
 "cells": [
  {
   "cell_type": "code",
   "execution_count": null,
   "id": "893a37cb",
   "metadata": {},
   "outputs": [],
   "source": [
    "LONG_TEST=\"No\""
   ]
  },
  {
   "cell_type": "code",
   "execution_count": null,
   "id": "0666783d",
   "metadata": {},
   "outputs": [],
   "source": [
    "import os\n",
    "import chipwhisperer as cw\n",
    "import time\n",
    "import pytest\n",
    "test_args = [\"-v\", \"-rs\", \"../../tests/test_husky.py\", \"-k\", \"not trace\"]\n",
    "if LONG_TEST != \"No\":\n",
    "    test_args.append(\"--fulltest\")\n",
    "scope = cw.scope()\n",
    "os.environ[\"HUSKY_HW_LOC\"] = str(scope._getNAEUSB().hw_location())\n",
    "os.environ[\"HUSKY_TARGET_PLATFORM\"] = \"sam4s\"\n",
    "scope.default_setup()\n",
    "time.sleep(0.5)\n",
    "cw.program_target(scope, cw.programmers.SAM4SProgrammer, \"../../hardware/victims/firmware/simpleserial-trace/simpleserial-trace-CW308_SAM4S.hex\")\n",
    "scope.dis()"
   ]
  },
  {
   "cell_type": "code",
   "execution_count": null,
   "id": "7f0e1273",
   "metadata": {
    "scrolled": false
   },
   "outputs": [],
   "source": [
    "import pytest\n",
    "retcode = pytest.main(test_args)"
   ]
  },
  {
   "cell_type": "code",
   "execution_count": null,
   "id": "c7c5a01f",
   "metadata": {},
   "outputs": [],
   "source": [
    "assert retcode.value == 0, retcode"
   ]
  },
  {
   "cell_type": "code",
   "execution_count": null,
   "id": "6f10e727",
   "metadata": {},
   "outputs": [],
   "source": [
    "retcode.name"
   ]
  }
 ],
 "metadata": {
  "kernelspec": {
   "display_name": "Python 3 (ipykernel)",
   "language": "python",
   "name": "python3"
  },
  "language_info": {
   "codemirror_mode": {
    "name": "ipython",
    "version": 3
   },
   "file_extension": ".py",
   "mimetype": "text/x-python",
   "name": "python",
   "nbconvert_exporter": "python",
   "pygments_lexer": "ipython3",
   "version": "3.10.5"
  }
 },
 "nbformat": 4,
 "nbformat_minor": 5
}
