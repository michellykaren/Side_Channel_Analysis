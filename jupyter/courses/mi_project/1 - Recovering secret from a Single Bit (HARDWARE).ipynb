{
 "cells": [
  {
   "cell_type": "markdown",
   "metadata": {},
   "source": [
    "### Configs and Libs"
   ]
  },
  {
   "cell_type": "code",
   "execution_count": 1,
   "metadata": {},
   "outputs": [],
   "source": [
    "SCOPETYPE = 'CWNANO'\n",
    "PLATFORM = 'CWNANO'\n",
    "SS_VER = 'SS_VER_1_1'\n",
    "CRYPTO_TARGET = 'NONE'"
   ]
  },
  {
   "cell_type": "markdown",
   "metadata": {},
   "source": [
    "### Creating a New Directory\n",
    "\n",
    "The following bash block will create a new directory and copy the `simpleserial-base` code into it:"
   ]
  },
  {
   "cell_type": "code",
   "execution_count": 2,
   "metadata": {},
   "outputs": [
    {
     "data": {
      "text/plain": [
       "'%%bash\\ncd ../../../hardware/victims/firmware/\\nmkdir -p ops_with_key && cp -r simpleserial-base/* $_\\ncd ops_with_key'"
      ]
     },
     "execution_count": 2,
     "metadata": {},
     "output_type": "execute_result"
    }
   ],
   "source": [
    "'''%%bash\n",
    "cd ../../../hardware/victims/firmware/\n",
    "mkdir -p ops_with_key && cp -r simpleserial-base/* $_\n",
    "cd ops_with_key'''"
   ]
  },
  {
   "cell_type": "markdown",
   "metadata": {},
   "source": [
    "### Connecting to Hardware\n",
    "Quand j'éxecute cette ligne le scope est defini"
   ]
  },
  {
   "cell_type": "code",
   "execution_count": 3,
   "metadata": {
    "scrolled": true
   },
   "outputs": [
    {
     "name": "stdout",
     "output_type": "stream",
     "text": [
      "INFO: Found ChipWhisperer😍\n"
     ]
    }
   ],
   "source": [
    "%run \"../../Setup_Scripts/Setup_Generic.ipynb\""
   ]
  },
  {
   "cell_type": "code",
   "execution_count": 4,
   "metadata": {},
   "outputs": [
    {
     "name": "stdout",
     "output_type": "stream",
     "text": [
      "SimpleSerial Settings =\n",
      "\toutput_len             = 16\n",
      "\tbaud                   = 38400\n",
      "\tsimpleserial_last_read = \n",
      "\tsimpleserial_last_sent = \n",
      "\t\n",
      "ChipWhisperer Nano Device\n",
      "fw_version = \n",
      "    major = 0\n",
      "    minor = 65\n",
      "    debug = 0\n",
      "io = \n",
      "    tio1         = None\n",
      "    tio2         = None\n",
      "    tio3         = None\n",
      "    tio4         = high_z\n",
      "    pdid         = True\n",
      "    pdic         = False\n",
      "    nrst         = True\n",
      "    clkout       = 7500000.0\n",
      "    cdc_settings = bytearray(b'\\x01\\x00\\x00\\x00')\n",
      "adc = \n",
      "    clk_src  = int\n",
      "    clk_freq = 7500000.0\n",
      "    samples  = 5000\n",
      "glitch = \n",
      "    repeat     = 0\n",
      "    ext_offset = 0\n",
      "\n"
     ]
    }
   ],
   "source": [
    "print(target)\n",
    "print(scope)"
   ]
  },
  {
   "cell_type": "markdown",
   "metadata": {},
   "source": [
    "### Building Firmware\n",
    "\n",
    "Rerun this every time you make changes to your code:"
   ]
  },
  {
   "cell_type": "code",
   "execution_count": 5,
   "metadata": {},
   "outputs": [
    {
     "name": "stdout",
     "output_type": "stream",
     "text": [
      "SS_VER set to SS_VER_1_1\n",
      "SS_VER set to SS_VER_1_1\n",
      "SS_VER set to SS_VER_1_1\n",
      "SS_VER set to SS_VER_1_1\n",
      "make[1]: '.dep' is up to date.\n",
      "SS_VER set to SS_VER_1_1\n",
      "SS_VER set to SS_VER_1_1\n",
      ".\n",
      "Welcome to another exciting ChipWhisperer target build!!\n",
      "arm-none-eabi-gcc.exe (GNU Arm Embedded Toolchain 10-2020-q4-major) 10.2.1 20201103 (release)\n",
      "Copyright (C) 2020 Free Software Foundation, Inc.\n",
      "This is free software; see the source for copying conditions.  There is NO\n",
      "warranty; not even for MERCHANTABILITY or FITNESS FOR A PARTICULAR PURPOSE.\n",
      "\n",
      ".\n",
      "Assembling: .././hal/stm32f0/stm32f0_startup.S\n",
      "arm-none-eabi-gcc -c -mcpu=cortex-m0 -I. -x assembler-with-cpp -mthumb -mfloat-abi=soft -ffunction-sections -DF_CPU=7372800 -Wa,-gstabs,-adhlns=objdir-CWNANO/stm32f0_startup.lst -I.././simpleserial/ -I.././simpleserial/ -I.././hal -I.././hal/stm32f0 -I.././hal/stm32f0/CMSIS -I.././hal/stm32f0/CMSIS/core -I.././hal/stm32f0/CMSIS/device -I.././hal/stm32f0/Legacy -I.././crypto/ .././hal/stm32f0/stm32f0_startup.S -o objdir-CWNANO/stm32f0_startup.o\n",
      ".\n",
      "Compiling:\n",
      "    simpleserial-base.c ...Done!\n",
      ".\n",
      "Compiling:\n",
      "    .././hal/stm32f0_nano/stm32f0_hal_nano.c ...Done!\n",
      ".\n",
      "Compiling:\n",
      "    .././simpleserial/simpleserial.c ...Done!\n",
      ".\n",
      "Compiling:\n",
      "    .././hal/stm32f0/stm32f0_hal_lowlevel.c ...Done!\n",
      ".\n",
      "LINKING:\n",
      "    simpleserial-base-CWNANO.elf ...Done!\n",
      ".\n",
      "Creating load file for Flash: simpleserial-base-CWNANO.hex\n",
      "arm-none-eabi-objcopy -O ihex -R .eeprom -R .fuse -R .lock -R .signature simpleserial-base-CWNANO.elf simpleserial-base-CWNANO.hex\n",
      ".\n",
      "Creating load file for Flash: simpleserial-base-CWNANO.bin\n",
      "arm-none-eabi-objcopy -O binary -R .eeprom -R .fuse -R .lock -R .signature simpleserial-base-CWNANO.elf simpleserial-base-CWNANO.bin\n",
      ".\n",
      "Creating load file for EEPROM: simpleserial-base-CWNANO.eep\n",
      "arm-none-eabi-objcopy -j .eeprom --set-section-flags=.eeprom=\"alloc,load\" \\\n",
      "--change-section-lma .eeprom=0 --no-change-warnings -O ihex simpleserial-base-CWNANO.elf simpleserial-base-CWNANO.eep || exit 0\n",
      ".\n",
      "Creating Symbol Table: simpleserial-base-CWNANO.sym\n",
      "arm-none-eabi-nm -n simpleserial-base-CWNANO.elf > simpleserial-base-CWNANO.sym\n",
      ".\n",
      "Creating Extended Listing: simpleserial-base-CWNANO.lss\n",
      "arm-none-eabi-objdump -h -S -z simpleserial-base-CWNANO.elf > simpleserial-base-CWNANO.lss\n",
      "SS_VER set to SS_VER_1_1\n",
      "SS_VER set to SS_VER_1_1\n",
      "Size after:\n",
      "   text\t   data\t    bss\t    dec\t    hex\tfilename\n",
      "   4432\t     12\t   1428\t   5872\t   16f0\tsimpleserial-base-CWNANO.elf\n",
      "+--------------------------------------------------------\n",
      "+ Default target does full rebuild each time.\n",
      "+ Specify buildtarget == allquick == to avoid full rebuild\n",
      "+--------------------------------------------------------\n",
      "+--------------------------------------------------------\n",
      "+ Built for platform CWNANO Built-in Target (STM32F030) with:\n",
      "+ CRYPTO_TARGET = NONE\n",
      "+ CRYPTO_OPTIONS = AES128C\n",
      "+--------------------------------------------------------\n"
     ]
    }
   ],
   "source": [
    "%%bash -s \"$PLATFORM\" \"$SS_VER\" \"$CRYPTO_TARGET\"\n",
    "cd ../../../hardware/victims/firmware/ops_with_key\n",
    "make PLATFORM=$1 SS_VER=$2 CRYPTO_TARGET=$3 -j"
   ]
  },
  {
   "cell_type": "markdown",
   "metadata": {},
   "source": [
    "### Uploading Firmware\n"
   ]
  },
  {
   "cell_type": "code",
   "execution_count": 6,
   "metadata": {},
   "outputs": [
    {
     "name": "stdout",
     "output_type": "stream",
     "text": [
      "Detected known STMF32: STM32F03xx4/03xx6\n",
      "Extended erase (0x44), this can take ten seconds or more\n",
      "Attempting to program 4443 bytes at 0x8000000\n",
      "STM32F Programming flash...\n",
      "STM32F Reading flash...\n",
      "Verified flash OK, 4443 bytes\n"
     ]
    }
   ],
   "source": [
    "cw.program_target(scope, prog, \"../../../hardware/victims/firmware/ops_with_key/simpleserial-base-{}.hex\".format(PLATFORM))"
   ]
  },
  {
   "cell_type": "markdown",
   "metadata": {},
   "source": [
    "## Trace Capture"
   ]
  },
  {
   "cell_type": "code",
   "execution_count": 7,
   "metadata": {},
   "outputs": [
    {
     "data": {
      "application/vnd.jupyter.widget-view+json": {
       "model_id": "8243c0f6c7324f89ae25f6516bc6bcac",
       "version_major": 2,
       "version_minor": 0
      },
      "text/plain": [
       "Capturing data:   0%|          | 0/10 [00:00<?, ?it/s]"
      ]
     },
     "metadata": {},
     "output_type": "display_data"
    }
   ],
   "source": [
    "#validado\n",
    "from tqdm.notebook import trange\n",
    "import numpy as np\n",
    "import time\n",
    "\n",
    "ktp = cw.ktp.Basic()\n",
    "textin_array = []\n",
    "textout_array = []\n",
    "\n",
    "N = 1000\n",
    "for i in trange(N, desc='Capturing data'):\n",
    "    key, text = ktp.next() \n",
    "    trace = cw.capture_trace(scope, target, text)\n",
    "\n",
    "    if not trace:\n",
    "        continue\n",
    "\n",
    "    textout_array.append(trace.textout)\n",
    "    textin_array.append(trace.textin)"
   ]
  },
  {
   "cell_type": "code",
   "execution_count": 8,
   "metadata": {},
   "outputs": [
    {
     "data": {
      "text/plain": [
       "[bytearray(b'\\x84\\xa2ID\\x12\\x18X\\xb5\\xee^\\xe6\\xa8\\xf9D\\x90\\xba'),\n",
       " bytearray(b'%\\xff\\xe2\\xd9\\xf84\\xbf|h\\x00\\xf4ov\\xcf\\x14\\x87'),\n",
       " bytearray(b'oM\\xc6x\\xa9\\x8eV:\\x1e\\x02\\xe2\\xd7\\xc4\\xb2z\\xe7'),\n",
       " bytearray(b'\\xb0Np*M\\xba\\xae\\xb5h:+\\xa3\\x9d\\x8e\\xf5\\x13'),\n",
       " bytearray(b'[\\x99\\xec\\x10\\xe9>\\x0e\\x9f\\xbeVLyp\\xef\\xbam'),\n",
       " bytearray(b'n@8\\x12\\xed\\x10:[\\xdeS\\xa1g\\x03P\\xf7\\xd3'),\n",
       " bytearray(b'\\xc9\\xf1\\xb7{\\xe8\\x0c~9{\\x80\\x82y\\x96\\xc7\\xdcO'),\n",
       " bytearray(b'-\\xee\\xd4\\xe8\\xea\\xc4:\\xecq\\xbe\\x82&\\xa59\\xd2p'),\n",
       " bytearray(b'g\\xf4\\x9c2\\xb7\\xc8p\\x14\\x01\\xa3\\xd5\\x89\\x8d\\xd7\\x8b\\xfb'),\n",
       " bytearray(b'8\\xd8_\\x92CE\\x05\\x96\\x18\\xb4\\xff&\\x9cZf\\\\')]"
      ]
     },
     "execution_count": 8,
     "metadata": {},
     "output_type": "execute_result"
    }
   ],
   "source": [
    "textout_array"
   ]
  },
  {
   "cell_type": "code",
   "execution_count": 9,
   "metadata": {},
   "outputs": [
    {
     "data": {
      "text/plain": [
       "[CWbytearray(b'c6 a2 49 44 12 18 58 b5 ee 5e e6 a8 f9 44 90 ba'),\n",
       " CWbytearray(b'67 ff e2 d9 f8 34 bf 7c 68 00 f4 6f 76 cf 14 87'),\n",
       " CWbytearray(b'b1 4d c6 78 a9 8e 56 3a 1e 02 e2 d7 c4 b2 7a e7'),\n",
       " CWbytearray(b'f2 4e 70 2a 4d ba ae b5 68 3a 2b a3 9d 8e f5 13'),\n",
       " CWbytearray(b'9d 99 ec 10 e9 3e 0e 9f be 56 4c 79 70 ef ba 6d'),\n",
       " CWbytearray(b'b0 40 38 12 ed 10 3a 5b de 53 a1 67 03 50 f7 d3'),\n",
       " CWbytearray(b'0b f1 b7 7b e8 0c 7e 39 7b 80 82 79 96 c7 dc 4f'),\n",
       " CWbytearray(b'6f ee d4 e8 ea c4 3a ec 71 be 82 26 a5 39 d2 70'),\n",
       " CWbytearray(b'a9 f4 9c 32 b7 c8 70 14 01 a3 d5 89 8d d7 8b fb'),\n",
       " CWbytearray(b'7a d8 5f 92 43 45 05 96 18 b4 ff 26 9c 5a 66 5c')]"
      ]
     },
     "execution_count": 9,
     "metadata": {},
     "output_type": "execute_result"
    }
   ],
   "source": [
    "textin_array"
   ]
  },
  {
   "cell_type": "code",
   "execution_count": 13,
   "metadata": {
    "scrolled": true
   },
   "outputs": [
    {
     "name": "stdout",
     "output_type": "stream",
     "text": [
      "\n",
      "\n",
      "0xc6\n",
      "0xa2\n",
      "0x49\n",
      "0x44\n",
      "0x12\n",
      "0x18\n",
      "0x58\n",
      "0xb5\n",
      "0xee\n",
      "0x5e\n",
      "0xe6\n",
      "0xa8\n",
      "0xf9\n",
      "0x44\n",
      "0x90\n",
      "0xba\n",
      "\n",
      "\n",
      "0x67\n",
      "0xff\n",
      "0xe2\n",
      "0xd9\n",
      "0xf8\n",
      "0x34\n",
      "0xbf\n",
      "0x7c\n",
      "0x68\n",
      "0x0\n",
      "0xf4\n",
      "0x6f\n",
      "0x76\n",
      "0xcf\n",
      "0x14\n",
      "0x87\n",
      "\n",
      "\n",
      "0xb1\n",
      "0x4d\n",
      "0xc6\n",
      "0x78\n",
      "0xa9\n",
      "0x8e\n",
      "0x56\n",
      "0x3a\n",
      "0x1e\n",
      "0x2\n",
      "0xe2\n",
      "0xd7\n",
      "0xc4\n",
      "0xb2\n",
      "0x7a\n",
      "0xe7\n",
      "\n",
      "\n",
      "0xf2\n",
      "0x4e\n",
      "0x70\n",
      "0x2a\n",
      "0x4d\n",
      "0xba\n",
      "0xae\n",
      "0xb5\n",
      "0x68\n",
      "0x3a\n",
      "0x2b\n",
      "0xa3\n",
      "0x9d\n",
      "0x8e\n",
      "0xf5\n",
      "0x13\n",
      "\n",
      "\n",
      "0x9d\n",
      "0x99\n",
      "0xec\n",
      "0x10\n",
      "0xe9\n",
      "0x3e\n",
      "0xe\n",
      "0x9f\n",
      "0xbe\n",
      "0x56\n",
      "0x4c\n",
      "0x79\n",
      "0x70\n",
      "0xef\n",
      "0xba\n",
      "0x6d\n",
      "\n",
      "\n",
      "0xb0\n",
      "0x40\n",
      "0x38\n",
      "0x12\n",
      "0xed\n",
      "0x10\n",
      "0x3a\n",
      "0x5b\n",
      "0xde\n",
      "0x53\n",
      "0xa1\n",
      "0x67\n",
      "0x3\n",
      "0x50\n",
      "0xf7\n",
      "0xd3\n",
      "\n",
      "\n",
      "0xb\n",
      "0xf1\n",
      "0xb7\n",
      "0x7b\n",
      "0xe8\n",
      "0xc\n",
      "0x7e\n",
      "0x39\n",
      "0x7b\n",
      "0x80\n",
      "0x82\n",
      "0x79\n",
      "0x96\n",
      "0xc7\n",
      "0xdc\n",
      "0x4f\n",
      "\n",
      "\n",
      "0x6f\n",
      "0xee\n",
      "0xd4\n",
      "0xe8\n",
      "0xea\n",
      "0xc4\n",
      "0x3a\n",
      "0xec\n",
      "0x71\n",
      "0xbe\n",
      "0x82\n",
      "0x26\n",
      "0xa5\n",
      "0x39\n",
      "0xd2\n",
      "0x70\n",
      "\n",
      "\n",
      "0xa9\n",
      "0xf4\n",
      "0x9c\n",
      "0x32\n",
      "0xb7\n",
      "0xc8\n",
      "0x70\n",
      "0x14\n",
      "0x1\n",
      "0xa3\n",
      "0xd5\n",
      "0x89\n",
      "0x8d\n",
      "0xd7\n",
      "0x8b\n",
      "0xfb\n",
      "\n",
      "\n",
      "0x7a\n",
      "0xd8\n",
      "0x5f\n",
      "0x92\n",
      "0x43\n",
      "0x45\n",
      "0x5\n",
      "0x96\n",
      "0x18\n",
      "0xb4\n",
      "0xff\n",
      "0x26\n",
      "0x9c\n",
      "0x5a\n",
      "0x66\n",
      "0x5c\n"
     ]
    }
   ],
   "source": [
    " for j in range (3) : \n",
    "    print(\"\\n\");\n",
    "    for i in range (16) : \n",
    "        print(hex(textout_array[j][i]))\n"
   ]
  },
  {
   "cell_type": "code",
   "execution_count": 15,
   "metadata": {},
   "outputs": [],
   "source": [
    "assert(len(textout_array) == N)\n",
    "assert(len(textin_array) == N)\n"
   ]
  },
  {
   "cell_type": "code",
   "execution_count": 12,
   "metadata": {},
   "outputs": [],
   "source": [
    "scope.dis()\n",
    "target.dis()"
   ]
  }
 ],
 "metadata": {
  "kernelspec": {
   "display_name": "Python 3 (ipykernel)",
   "language": "python",
   "name": "python3"
  },
  "language_info": {
   "codemirror_mode": {
    "name": "ipython",
    "version": 3
   },
   "file_extension": ".py",
   "mimetype": "text/x-python",
   "name": "python",
   "nbconvert_exporter": "python",
   "pygments_lexer": "ipython3",
   "version": "3.10.11"
  }
 },
 "nbformat": 4,
 "nbformat_minor": 4
}
