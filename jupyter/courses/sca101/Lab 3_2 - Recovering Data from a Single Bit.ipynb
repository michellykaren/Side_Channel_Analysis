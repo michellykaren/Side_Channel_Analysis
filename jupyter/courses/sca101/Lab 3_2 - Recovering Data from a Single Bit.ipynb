{
 "cells": [
  {
   "cell_type": "markdown",
   "metadata": {},
   "source": [
    "# Part 3, Topic 2: Recovering AES Key from a Single Bit of Data"
   ]
  },
  {
   "cell_type": "markdown",
   "metadata": {},
   "source": [
    "---\n",
    "NOTE: This lab references some (commercial) training material on [ChipWhisperer.io](https://www.ChipWhisperer.io). You can freely execute and use the lab per the open-source license (including using it in your own courses if you distribute similarly), but you must maintain notice about this source location. Consider joining our training course to enjoy the full experience.\n",
    "\n",
    "---"
   ]
  },
  {
   "cell_type": "markdown",
   "metadata": {},
   "source": [
    "Let's do a basic demo to recover a single bit of data from an internal state of an AES implementation, and see how far we can take our attack.\n",
    "\n",
    "\n",
    "**SUMMARY:** *This lab will take you through the associated information about how to recover an AES key from a single \"bit\" of leakage. We already saw how power analysis can be used to understand device leakage, but how does that mean we can recover cryptographic information?*\n",
    "\n",
    "**LEARNING OUTCOMES:**\n",
    "\n",
    "* Understand some basics of the AES algorithm.\n",
    "* See how a single bit of leakage can translate to a full key reveal.\n",
    "* See how to sort and ranking lists.\n"
   ]
  },
  {
   "cell_type": "markdown",
   "metadata": {},
   "source": [
    "## 1. AES Refresher"
   ]
  },
  {
   "cell_type": "markdown",
   "metadata": {},
   "source": [
    "You'll be an expert at AES (or recognizing AES figures) by the end of this course! Remember that the input data flow for AES is something like this:\n",
    "\n",
    "![aes-input-sbox](img/aesinput.png)\n",
    "\n",
    "Where the input data is XOR'd with a key byte, and then passed through an S-Box. First, let's build our AES model. I'm going to make your life slightly easier by giving you the S-Box data:"
   ]
  },
  {
   "cell_type": "code",
   "execution_count": 1,
   "metadata": {},
   "outputs": [],
   "source": [
    "sbox = [\n",
    "    # 0    1    2    3    4    5    6    7    8    9    a    b    c    d    e    f \n",
    "    0x63,0x7c,0x77,0x7b,0xf2,0x6b,0x6f,0xc5,0x30,0x01,0x67,0x2b,0xfe,0xd7,0xab,0x76, # 0\n",
    "    0xca,0x82,0xc9,0x7d,0xfa,0x59,0x47,0xf0,0xad,0xd4,0xa2,0xaf,0x9c,0xa4,0x72,0xc0, # 1\n",
    "    0xb7,0xfd,0x93,0x26,0x36,0x3f,0xf7,0xcc,0x34,0xa5,0xe5,0xf1,0x71,0xd8,0x31,0x15, # 2\n",
    "    0x04,0xc7,0x23,0xc3,0x18,0x96,0x05,0x9a,0x07,0x12,0x80,0xe2,0xeb,0x27,0xb2,0x75, # 3\n",
    "    0x09,0x83,0x2c,0x1a,0x1b,0x6e,0x5a,0xa0,0x52,0x3b,0xd6,0xb3,0x29,0xe3,0x2f,0x84, # 4\n",
    "    0x53,0xd1,0x00,0xed,0x20,0xfc,0xb1,0x5b,0x6a,0xcb,0xbe,0x39,0x4a,0x4c,0x58,0xcf, # 5\n",
    "    0xd0,0xef,0xaa,0xfb,0x43,0x4d,0x33,0x85,0x45,0xf9,0x02,0x7f,0x50,0x3c,0x9f,0xa8, # 6\n",
    "    0x51,0xa3,0x40,0x8f,0x92,0x9d,0x38,0xf5,0xbc,0xb6,0xda,0x21,0x10,0xff,0xf3,0xd2, # 7\n",
    "    0xcd,0x0c,0x13,0xec,0x5f,0x97,0x44,0x17,0xc4,0xa7,0x7e,0x3d,0x64,0x5d,0x19,0x73, # 8\n",
    "    0x60,0x81,0x4f,0xdc,0x22,0x2a,0x90,0x88,0x46,0xee,0xb8,0x14,0xde,0x5e,0x0b,0xdb, # 9\n",
    "    0xe0,0x32,0x3a,0x0a,0x49,0x06,0x24,0x5c,0xc2,0xd3,0xac,0x62,0x91,0x95,0xe4,0x79, # a\n",
    "    0xe7,0xc8,0x37,0x6d,0x8d,0xd5,0x4e,0xa9,0x6c,0x56,0xf4,0xea,0x65,0x7a,0xae,0x08, # b\n",
    "    0xba,0x78,0x25,0x2e,0x1c,0xa6,0xb4,0xc6,0xe8,0xdd,0x74,0x1f,0x4b,0xbd,0x8b,0x8a, # c\n",
    "    0x70,0x3e,0xb5,0x66,0x48,0x03,0xf6,0x0e,0x61,0x35,0x57,0xb9,0x86,0xc1,0x1d,0x9e, # d\n",
    "    0xe1,0xf8,0x98,0x11,0x69,0xd9,0x8e,0x94,0x9b,0x1e,0x87,0xe9,0xce,0x55,0x28,0xdf, # e\n",
    "    0x8c,0xa1,0x89,0x0d,0xbf,0xe6,0x42,0x68,0x41,0x99,0x2d,0x0f,0xb0,0x54,0xbb,0x16  # f\n",
    "]"
   ]
  },
  {
   "cell_type": "markdown",
   "metadata": {},
   "source": [
    "Alright - that should be enough for you to build a simple function that XORs a secret key value with the input data, and then performs a lookup in the above table. Before you continue, modify the following code block to implement the correct function:\n",
    "\n",
    "### 1.1 `aes_internal()`"
   ]
  },
  {
   "cell_type": "code",
   "execution_count": 20,
   "metadata": {},
   "outputs": [],
   "source": [
    "def aes_internal(inputdata, key):\n",
    "    return (sbox[inputdata^key])"
   ]
  },
  {
   "cell_type": "markdown",
   "metadata": {},
   "source": [
    "With that working - go ahead and run the following test vectors. If the values are not as expected, check your implementation. If the following executes without error, then go onto the next part."
   ]
  },
  {
   "cell_type": "code",
   "execution_count": 42,
   "metadata": {},
   "outputs": [
    {
     "name": "stdout",
     "output_type": "stream",
     "text": [
      "27\n",
      "✔️ OK to continue!\n"
     ]
    }
   ],
   "source": [
    "#Simple test vectors - if you get the check-mark printed all OK.\n",
    "print(aes_internal(0xAB, 0xEF))\n",
    "assert(aes_internal(0xAB, 0xEF) == 0x1B)\n",
    "assert(aes_internal(0x22, 0x01) == 0x26)\n",
    "print(\"✔️ OK to continue!\")"
   ]
  },
  {
   "cell_type": "markdown",
   "metadata": {},
   "source": [
    "Finally - we'll make a new function which doesn't expose the key. The following function has some hard-coded key. You can change this key byte if you'd like, and see it recovered at a later step!\n",
    "\n",
    "## 1.2 `aes_secret()`"
   ]
  },
  {
   "cell_type": "code",
   "execution_count": 22,
   "metadata": {},
   "outputs": [],
   "source": [
    "def aes_secret(inputdata):\n",
    "    secret_key = 0xEF\n",
    "    return aes_internal(secret_key, inputdata)"
   ]
  },
  {
   "cell_type": "code",
   "execution_count": 24,
   "metadata": {},
   "outputs": [
    {
     "name": "stdout",
     "output_type": "stream",
     "text": [
      "0x1b\n"
     ]
    }
   ],
   "source": [
    "print(hex(aes_secret(0xAB)))"
   ]
  },
  {
   "cell_type": "markdown",
   "metadata": {},
   "source": [
    "At this point, we can get the value of some internal part of the AES algorithm. For our first attack, we're going to assume that we can't observe this entire value. Let's just observe a single bit of the value - imagine that someone put a probe down inside the chip to get this. We can do this by simply throwing away [simplesmente jogando fora] all the other data besides a single bit, and only expose that single bit to the observer.\n",
    "\n",
    "Let's build the watcher now."
   ]
  },
  {
   "cell_type": "markdown",
   "metadata": {},
   "source": [
    "## 2. AES Watcher"
   ]
  },
  {
   "cell_type": "markdown",
   "metadata": {},
   "source": [
    "The watcher is going to observe a single bit of data. We'll need to build lists of input we feed to the algorithm (we're just going to send in 1000 random bytes that get 'encrypted'), as well as [bem como] lists to hold our observation. In case you're still picking up Python, here are a few handy little things you might need in this section:"
   ]
  },
  {
   "cell_type": "code",
   "execution_count": 27,
   "metadata": {},
   "outputs": [
    {
     "name": "stdout",
     "output_type": "stream",
     "text": [
      "[5, 6, 9, 10]\n",
      "[174, 32, 56, 76, 129, 162, 143, 78, 162, 182, 126, 74, 259, 69, 170, 166, 221, 242, 19, 73, 203, 91, 83, 234, 208, 189, 79, 253, 41, 247, 54, 142, 169, 225, 188, 63, 93, 194, 202, 9, 60, 202, 204, 206, 64, 151, 36, 159, 41, 29, 168, 169, 207, 155, 161, 198, 87, 237, 189, 89, 46, 91, 210, 254, 128, 44, 233, 126, 50, 38, 193, 251, 107, 109, 195, 54, 236, 100, 69, 206, 120, 152, 212, 225, 232, 160, 148, 13, 140, 150, 131, 101, 241, 126, 172, 237, 65, 241, 183, 243, 54, 125, 204, 93, 10, 32, 59, 237, 237, 9, 198, 21, 127, 170, 6, 191, 201, 107, 182, 192, 131, 244, 250, 112, 189, 176, 95, 172, 38, 224, 102, 167, 95, 41, 101, 216, 244, 103, 153, 151, 167, 163, 171, 174, 167, 58, 143, 110, 56, 25, 234, 143, 213, 255, 202, 85, 195, 96, 93, 20, 157, 102, 108, 200, 53, 236, 89, 228, 251, 250, 30, 63, 33, 83, 93, 138, 44, 206, 155, 38, 100, 72, 247, 232, 119, 111, 204, 229, 137, 155, 195, 145, 11, 94, 149, 186, 102, 149, 68, 122, 69, 155, 205, 25, 52, 217, 41, 200, 237, 123, 113, 156, 107, 46, 220, 181, 97, 186, 235, 114, 31, 248, 51, 54, 214, 257, 229, 130, 149, 218, 67, 159, 133, 173, 165, 233, 205, 233, 165, 66, 5, 255, 176, 58, 29, 115, 254, 249, 135, 77, 242, 43, 163, 63, 21, 205, 95, 29, 51, 50, 176, 125, 17, 66, 171, 112, 14, 167, 155, 91, 14, 31, 89, 241, 128, 84, 204, 162, 60, 133, 255, 157, 66, 201, 208, 217, 148, 84, 78, 182, 137, 72, 134, 176, 21, 110, 30, 119, 48, 213, 183, 10, 138, 205, 34, 56, 101, 114, 131, 32, 159, 15, 75, 190, 137, 163, 247, 250, 166, 220, 120, 195, 112, 188, 85, 256, 209, 20, 201, 250, 145, 201, 162, 187, 118, 193, 33, 134, 11, 237, 203, 167, 189, 152, 245, 12, 67, 68, 80, 60, 178, 238, 165, 230, 79, 137, 156, 255, 107, 119, 163, 118, 79, 73, 251, 87, 38, 33, 121, 214, 159, 83, 100, 54, 4, 34, 75, 191, 52, 202, 66, 61, 49, 48, 201, 246, 181, 110, 10, 137, 42, 182, 128, 126, 214, 55, 45, 129, 149, 159, 94, 92, 88, 165, 244, 200, 198, 56, 214, 135, 240, 10, 179, 159, 105, 234, 16, 202, 151, 53, 97, 162, 119, 46, 22, 247, 137, 13, 53, 76, 110, 146, 197, 216, 255, 18, 122, 70, 194, 151, 76, 243, 213, 92, 104, 177, 74, 62, 5, 196, 125, 205, 150, 55, 215, 250, 74, 223, 234, 46, 108, 103, 224, 182, 154, 37, 111, 100, 30, 176, 143, 85, 179, 71, 26, 207, 100, 14, 56, 14, 239, 119, 100, 238, 99, 152, 67, 51, 241, 207, 192, 213, 110, 73, 41, 195, 75, 165, 59, 110, 216, 117, 208, 42, 181, 219, 72, 39, 8, 138, 82, 43, 210, 103, 37, 51, 257, 247, 37, 115, 52, 252, 108, 50, 97, 146, 196, 19, 90, 87, 48, 123, 116, 18, 96, 53, 14, 223, 166, 256, 42, 228, 50, 170, 13, 90, 226, 186, 7, 132, 83, 257, 184, 174, 151, 8, 148, 147, 84, 253, 36, 36, 136, 16, 173, 17, 98, 218, 184, 116, 92, 115, 197, 40, 163, 253, 216, 63, 145, 12, 58, 9, 24, 62, 36, 250, 130, 168, 29, 74, 148, 184, 63, 125, 55, 115, 4, 29, 147, 243, 114, 195, 120, 206, 205, 95, 7, 248, 120, 194, 6, 168, 109, 26, 37, 162, 128, 242, 257, 153, 115, 136, 7, 65, 70, 207, 125, 161, 41, 179, 5, 19, 49, 163, 120, 79, 208, 60, 37, 17, 116, 173, 36, 130, 63, 189, 53, 257, 229, 43, 76, 154, 243, 211, 176, 164, 69, 258, 182, 55, 91, 68, 84, 185, 184, 11, 199, 116, 152, 179, 118, 242, 69, 209, 158, 212, 206, 68, 179, 100, 227, 8, 45, 249, 252, 133, 41, 75, 54, 106, 244, 188, 179, 9, 259, 243, 121, 149, 155, 184, 148, 41, 145, 195, 100, 152, 65, 90, 29, 60, 201, 20, 227, 163, 36, 191, 189, 128, 126, 123, 123, 164, 170, 257, 30, 243, 195, 64, 104, 133, 70, 69, 96, 185, 225, 171, 177, 92, 27, 210, 140, 59, 127, 161, 179, 86, 47, 9, 70, 151, 251, 25, 32, 179, 46, 182, 227, 175, 125, 158, 247, 115, 117, 169, 231, 50, 49, 10, 184, 180, 50, 103, 52, 99, 127, 27, 99, 241, 141, 128, 192, 214, 28, 208, 64, 88, 204, 165, 80, 256, 46, 126, 242, 157, 58, 195, 126, 80, 124, 6, 59, 147, 134, 136, 239, 226, 67, 81, 112, 67, 112, 201, 26, 112, 155, 21, 221, 218, 33, 160, 206, 184, 121, 194, 233, 257, 208, 19, 248, 210, 11, 17, 126, 128, 102, 144, 211, 178, 176, 127, 4, 153, 149, 6, 254, 206, 15, 86, 94, 130, 116, 99, 257, 20, 74, 9, 46, 134, 233, 67, 126, 117, 75, 91, 206, 202, 191, 158, 122, 200, 244, 52, 183, 202, 69, 81, 156, 94, 82, 164, 233, 256, 102, 212, 242, 185, 249, 226, 211, 157, 226, 88, 42, 233, 15, 27, 87, 60, 18, 51, 249, 145, 214, 55, 183, 133, 45, 152, 205, 103, 215, 202, 18, 179, 224, 152, 216, 22, 145, 92, 84, 45, 91, 7, 23, 161, 52, 178, 231, 242, 134, 182, 96, 238, 38, 78, 179, 239, 60, 134, 202, 230, 135, 19, 56, 153, 255, 73, 99, 155, 164, 158, 86, 17, 188, 111, 188, 251, 202, 152, 152, 95, 56, 119, 23, 226, 4, 31, 95, 241, 135, 237, 18, 249, 85, 28, 247, 255, 72, 226, 148, 133, 25, 60, 110, 88, 101, 61, 21, 249, 169, 70, 68, 227, 46, 133, 38, 173, 225, 193]\n"
     ]
    }
   ],
   "source": [
    "##Some Python hints/useful functions:\n",
    "\n",
    "# You can use this function to generate the random data\n",
    "import random\n",
    "random.randint(0, 255)\n",
    "\n",
    "# List comprehension can be used to shovel data through a function\n",
    "def somefunc(a):\n",
    "    return a + 4\n",
    "input_data = [1,2,5,6]\n",
    "output_data = [somefunc(a) for a in input_data]\n",
    "\n",
    "print(output_data)\n",
    "# You can use this while ignoring the index variable too\n",
    "output_data = [somefunc(random.randint(0,255)) for _ in range(0, 1000)]\n",
    "print(output_data)"
   ]
  },
  {
   "cell_type": "markdown",
   "metadata": {},
   "source": [
    "Your first objective is to build a list of data you are encrypted with aes_secret(). This should be a 1000-item random number which ranges from 0 to 255. Call it `input_data`. For example if you print the `input_data` list it could look like `[2, 49, 0, 212, 94, 255, ... , 7]`, where there are 1000 elements in total. Fill in the following code to make a list of the 1000 random values in the correct range (see hints above if you need some Python syntax). \n",
    "\n",
    "### 2.1 Generation of `input_data`"
   ]
  },
  {
   "cell_type": "code",
   "execution_count": 47,
   "metadata": {},
   "outputs": [
    {
     "name": "stdout",
     "output_type": "stream",
     "text": [
      "1000\n",
      "[124, 217, 171, 124, 54, 137, 142, 93, 243, 163, 97, 188, 90, 201, 208, 86, 104, 207, 176, 106, 82, 93, 227, 126, 235, 108, 226, 245, 18, 59, 230, 145, 77, 181, 11, 99, 147, 239, 76, 156, 76, 142, 139, 100, 117, 180, 50, 125, 26, 105, 226, 204, 52, 38, 174, 186, 123, 206, 178, 230, 145, 171, 15, 9, 245, 186, 28, 0, 34, 6, 193, 25, 168, 52, 42, 87, 214, 99, 84, 44, 101, 134, 156, 49, 45, 133, 168, 170, 178, 156, 119, 231, 188, 34, 14, 227, 50, 176, 29, 71, 152, 13, 248, 30, 95, 143, 143, 49, 177, 130, 165, 183, 165, 148, 190, 14, 29, 163, 247, 191, 205, 205, 254, 236, 209, 147, 43, 186, 227, 239, 100, 196, 170, 209, 235, 33, 152, 176, 7, 55, 234, 49, 185, 210, 211, 163, 129, 247, 165, 151, 74, 187, 113, 118, 53, 5, 201, 66, 65, 9, 99, 104, 154, 42, 235, 186, 88, 232, 60, 38, 42, 121, 58, 127, 217, 191, 20, 119, 244, 164, 82, 84, 158, 149, 191, 110, 115, 172, 243, 83, 171, 217, 86, 185, 126, 205, 209, 188, 29, 127, 146, 87, 87, 21, 201, 64, 24, 77, 194, 2, 112, 143, 0, 182, 19, 152, 202, 247, 27, 81, 41, 78, 199, 187, 180, 215, 84, 48, 205, 103, 75, 196, 42, 92, 16, 151, 40, 42, 182, 95, 144, 108, 123, 230, 137, 16, 32, 236, 5, 110, 169, 175, 41, 68, 6, 68, 195, 109, 16, 111, 234, 248, 250, 88, 3, 53, 110, 88, 68, 77, 88, 10, 195, 73, 219, 190, 198, 202, 43, 128, 231, 52, 108, 96, 108, 226, 77, 242, 160, 92, 89, 108, 79, 52, 144, 69, 50, 40, 203, 174, 57, 134, 33, 245, 160, 240, 165, 13, 232, 10, 214, 83, 136, 105, 154, 221, 75, 200, 254, 189, 105, 193, 119, 205, 247, 141, 176, 124, 131, 254, 186, 209, 80, 19, 211, 88, 1, 20, 108, 159, 117, 129, 205, 0, 82, 148, 63, 165, 156, 129, 45, 43, 200, 23, 241, 36, 185, 158, 37, 211, 217, 156, 7, 165, 120, 67, 130, 172, 204, 97, 79, 141, 115, 48, 17, 79, 44, 44, 117, 24, 16, 5, 24, 57, 28, 71, 90, 81, 232, 191, 228, 60, 155, 28, 179, 47, 149, 17, 3, 111, 43, 174, 2, 67, 211, 28, 227, 241, 249, 14, 102, 121, 81, 1, 167, 180, 13, 252, 185, 155, 120, 220, 181, 114, 192, 5, 59, 173, 56, 217, 5, 101, 202, 175, 212, 6, 129, 121, 216, 24, 87, 76, 141, 131, 24, 72, 105, 30, 6, 55, 233, 145, 47, 154, 178, 64, 236, 132, 11, 232, 28, 232, 158, 36, 74, 20, 98, 217, 151, 211, 51, 78, 48, 203, 187, 157, 53, 193, 131, 238, 55, 76, 92, 211, 99, 125, 28, 210, 129, 187, 57, 77, 150, 144, 4, 242, 161, 7, 189, 54, 82, 208, 210, 223, 8, 130, 133, 7, 110, 174, 88, 228, 60, 219, 12, 207, 153, 34, 117, 46, 245, 250, 29, 35, 242, 116, 103, 60, 19, 144, 115, 196, 173, 145, 78, 67, 121, 186, 167, 148, 229, 34, 197, 98, 121, 76, 122, 55, 58, 56, 226, 172, 164, 188, 129, 207, 232, 99, 45, 158, 102, 61, 239, 186, 6, 130, 4, 54, 148, 114, 223, 165, 175, 78, 2, 226, 68, 152, 231, 69, 0, 247, 70, 155, 239, 153, 50, 7, 137, 17, 75, 133, 42, 70, 65, 164, 254, 76, 190, 96, 184, 234, 174, 125, 104, 81, 185, 61, 109, 135, 12, 153, 186, 249, 182, 174, 224, 110, 249, 58, 14, 34, 176, 218, 125, 67, 1, 255, 231, 59, 167, 115, 253, 220, 108, 139, 216, 73, 105, 147, 34, 226, 166, 31, 103, 17, 112, 220, 162, 33, 228, 210, 129, 163, 117, 180, 182, 33, 102, 177, 139, 164, 219, 178, 73, 87, 254, 135, 109, 170, 251, 145, 17, 114, 207, 3, 99, 20, 61, 82, 74, 158, 242, 223, 104, 84, 49, 232, 82, 121, 30, 16, 116, 181, 134, 147, 138, 38, 212, 252, 169, 245, 182, 94, 84, 125, 61, 215, 54, 179, 101, 210, 214, 91, 255, 93, 114, 238, 231, 206, 235, 51, 20, 250, 126, 19, 201, 34, 112, 102, 215, 223, 177, 254, 78, 224, 53, 238, 28, 54, 46, 175, 84, 199, 32, 78, 67, 41, 73, 115, 131, 155, 56, 207, 141, 91, 220, 27, 46, 242, 147, 208, 46, 67, 82, 222, 52, 65, 81, 28, 112, 81, 106, 132, 202, 179, 2, 66, 184, 130, 156, 148, 153, 182, 113, 58, 15, 250, 229, 251, 217, 95, 182, 11, 105, 116, 194, 99, 68, 176, 205, 36, 109, 78, 98, 180, 236, 30, 132, 12, 82, 27, 207, 179, 251, 252, 55, 54, 94, 80, 188, 102, 221, 43, 227, 251, 201, 50, 241, 207, 179, 13, 241, 127, 24, 124, 7, 44, 208, 191, 216, 250, 80, 16, 41, 41, 208, 199, 25, 109, 56, 237, 166, 97, 58, 81, 39, 227, 205, 35, 169, 242, 9, 97, 15, 180, 187, 159, 90, 95, 105, 24, 232, 105, 16, 49, 76, 222, 243, 2, 89, 83, 190, 94, 254, 102, 204, 26, 74, 151, 53, 252, 254, 255, 207, 128, 210, 206, 46, 106, 51, 249, 17, 5, 64, 2, 223, 3, 115, 185, 235, 117, 37, 236, 10, 149, 65, 31, 195, 40, 233, 182, 113, 214, 146, 154, 138, 129, 132, 120, 126, 232, 189, 233, 174, 210, 10, 114, 142, 28, 132, 58, 242, 86, 151, 184, 219, 223, 6, 123, 22, 98, 137, 141, 6, 115, 232, 167, 38, 223, 229, 137, 204, 109, 172, 226, 154, 248, 247, 223, 152, 4, 253, 128, 78, 3, 155, 179, 222, 23, 186, 255, 37, 51, 139, 19, 212, 18, 241, 111, 9, 50, 69, 93, 156, 55, 252, 242, 170, 42]\n"
     ]
    }
   ],
   "source": [
    "input_data = []\n",
    "\n",
    "for i in range(0, 1000):\n",
    "    input_data.append(random.randint(0,255))\n",
    "    \n",
    "print(len(input_data))\n",
    "print(input_data)"
   ]
  },
  {
   "cell_type": "code",
   "execution_count": 48,
   "metadata": {},
   "outputs": [
    {
     "name": "stdout",
     "output_type": "stream",
     "text": [
      "✔️ OK to continue!\n"
     ]
    }
   ],
   "source": [
    "#Simple test vectors - if you get the check-mark printed all OK.\n",
    "assert(len(input_data) == 1000)\n",
    "assert(max(input_data) == 0xFF) #Possibly not true for random variables (re-run if you get an error)\n",
    "assert(min(input_data) == 0x00) #Possibly not true for random variables (re-run if you get an error)\n",
    "print(\"✔️ OK to continue!\")"
   ]
  },
  {
   "cell_type": "markdown",
   "metadata": {},
   "source": [
    "Now, feed all those inputs through the `aes_secret` function. Because this is a secret function we are only going to observe a single bit of output (the 'leakage'). The following will perform the encryptions and mask off all but the lowest bit for you, and build a new array called `leaked_data` which contains just the 1 or 0 status of the lowest bit.\n",
    "\n",
    "### 2.2 Definition of `leaked_data`"
   ]
  },
  {
   "cell_type": "code",
   "execution_count": 49,
   "metadata": {},
   "outputs": [],
   "source": [
    "leaked_data = [(aes_secret(a) & 0x01) for a in input_data]"
   ]
  },
  {
   "cell_type": "markdown",
   "metadata": {},
   "source": [
    "If you run the following too cells, it will then print some of the data so you can see the sequence of 1 and 0."
   ]
  },
  {
   "cell_type": "code",
   "execution_count": 50,
   "metadata": {},
   "outputs": [
    {
     "name": "stdout",
     "output_type": "stream",
     "text": [
      "[0, 1, 1, 0, 1, 1, 1, 1, 0, 1, 1, 1, 1, 1, 1, 0, 1, 1, 1, 1, 0, 1, 0, 1, 0, 0, 1, 0, 0, 0, 1, 1, 0, 0, 1, 0, 0, 1, 0, 1, 0, 1, 1, 1, 0, 1, 1, 1, 0, 0, 1, 0, 1, 1, 1, 0, 0, 1, 0, 1, 1, 1, 1, 0, 0, 0, 1, 1, 1, 0, 1, 0, 0, 1, 0, 0, 0, 0, 0, 0, 0, 1, 1, 1, 1, 0, 0, 0, 0, 1, 0, 0, 1, 1, 0, 0, 1, 1, 1, 0, 1, 0, 0, 1, 1, 0, 0, 1, 0, 0, 0, 0, 0, 1, 1, 0, 1, 1, 1, 1, 1, 1, 0, 1, 0, 0, 0, 0, 0, 1, 1, 1, 0, 0, 0, 1, 1, 1, 1, 1, 1, 1, 1, 1, 1, 1, 1, 1, 0, 0, 0, 0, 1, 0, 1, 1, 1, 1, 0, 0, 0, 1, 1, 0, 0, 0, 1, 1, 0, 1, 0, 0, 1, 0, 1, 1, 1, 0, 1, 1, 0, 0, 1, 0, 1, 0, 0, 0, 0, 1, 1, 1, 0, 1, 1, 1, 0, 1, 1, 0, 1, 0, 0, 1, 1, 1, 0, 0, 0, 1, 1, 0, 1, 1, 0, 1, 1, 1, 1, 0, 0, 0, 0, 0, 1, 1, 0, 0, 1, 0, 1, 1, 0, 1, 0, 0, 0, 0, 1, 1, 0, 0, 0, 1, 1, 0, 0, 1, 1, 0, 0, 1, 0, 0, 0, 0, 1, 1, 0, 1, 1, 0, 1, 1, 0, 1, 0, 1, 0, 0, 1, 1, 1, 0, 0, 1, 1, 1, 0, 0, 0, 1, 0, 1, 0, 1, 0, 0, 0, 1, 0, 0, 0, 1, 0, 0, 1, 0, 0, 1, 0, 1, 1, 0, 0, 0, 0, 0, 1, 1, 0, 1, 1, 0, 1, 1, 1, 0, 0, 0, 0, 1, 0, 1, 1, 0, 1, 0, 0, 0, 0, 0, 0, 0, 1, 1, 0, 1, 0, 1, 0, 1, 1, 1, 0, 1, 0, 0, 1, 1, 1, 0, 0, 1, 0, 1, 1, 1, 0, 1, 1, 1, 1, 0, 0, 1, 0, 0, 0, 1, 0, 0, 0, 0, 1, 0, 0, 0, 0, 0, 0, 1, 0, 0, 1, 0, 1, 0, 1, 1, 1, 0, 0, 1, 0, 0, 0, 1, 0, 1, 0, 1, 1, 1, 1, 1, 0, 0, 1, 0, 1, 0, 0, 0, 0, 1, 0, 1, 1, 0, 0, 1, 0, 0, 1, 1, 0, 0, 0, 1, 1, 0, 1, 1, 0, 0, 1, 0, 0, 0, 0, 0, 0, 0, 0, 0, 0, 1, 0, 1, 1, 1, 0, 1, 0, 1, 1, 1, 1, 1, 1, 1, 1, 1, 0, 1, 1, 1, 0, 1, 0, 0, 0, 0, 0, 0, 1, 1, 0, 0, 1, 0, 1, 1, 0, 1, 1, 1, 1, 0, 0, 0, 0, 0, 1, 0, 1, 1, 0, 1, 0, 1, 1, 0, 0, 0, 0, 1, 0, 1, 1, 1, 0, 0, 1, 1, 0, 1, 0, 0, 0, 1, 1, 1, 0, 0, 0, 0, 0, 0, 0, 1, 0, 1, 0, 1, 0, 0, 0, 1, 1, 1, 1, 1, 0, 0, 0, 1, 1, 0, 1, 0, 1, 1, 1, 1, 1, 0, 1, 1, 1, 1, 1, 0, 0, 0, 1, 1, 1, 0, 0, 0, 1, 0, 1, 1, 0, 1, 0, 0, 1, 1, 1, 0, 1, 0, 1, 1, 1, 1, 1, 0, 0, 1, 0, 1, 0, 0, 1, 1, 1, 1, 1, 1, 1, 0, 1, 1, 1, 1, 1, 0, 0, 1, 1, 1, 0, 0, 1, 1, 0, 1, 1, 0, 1, 1, 0, 0, 0, 0, 0, 0, 1, 1, 0, 1, 0, 0, 0, 0, 1, 1, 1, 0, 0, 1, 1, 1, 1, 1, 1, 1, 1, 1, 0, 1, 1, 1, 1, 0, 1, 1, 0, 0, 0, 0, 0, 1, 1, 0, 0, 1, 1, 0, 1, 0, 0, 1, 1, 0, 0, 1, 0, 0, 1, 0, 1, 1, 0, 0, 1, 0, 0, 0, 1, 0, 1, 1, 0, 1, 0, 0, 1, 0, 0, 1, 1, 1, 1, 0, 0, 1, 0, 1, 0, 1, 0, 0, 0, 1, 0, 0, 1, 1, 1, 0, 1, 1, 1, 1, 1, 0, 0, 0, 0, 0, 1, 0, 1, 1, 0, 1, 0, 0, 0, 0, 1, 0, 0, 0, 0, 0, 0, 1, 0, 1, 1, 1, 0, 0, 0, 1, 0, 1, 0, 1, 1, 0, 0, 1, 1, 0, 1, 1, 1, 0, 1, 1, 1, 0, 1, 1, 0, 1, 1, 1, 1, 1, 1, 0, 1, 1, 1, 1, 0, 0, 0, 0, 0, 1, 1, 1, 1, 0, 1, 1, 1, 1, 1, 1, 0, 1, 1, 0, 0, 1, 1, 1, 0, 0, 1, 1, 1, 0, 0, 0, 1, 1, 0, 1, 0, 0, 0, 0, 0, 0, 1, 0, 1, 1, 0, 1, 0, 0, 0, 0, 1, 0, 0, 1, 0, 1, 1, 1, 1, 0, 0, 0, 1, 1, 0, 0, 0, 1, 1, 1, 0, 1, 1, 1, 0, 0, 1, 0, 0, 1, 0, 1, 0, 1, 0, 1, 1, 0, 0, 1, 0, 0, 0, 0, 1, 1, 0, 0, 1, 0, 1, 1, 0, 1, 0, 1, 1, 1, 1, 1, 0, 0, 0, 1, 0, 0, 0, 1, 1, 0, 0, 0, 1, 0, 1, 1, 1, 0, 1, 1, 1, 1, 1, 0, 1, 1, 0, 1, 1, 1, 1, 0, 1, 1, 1, 1, 0, 0, 0, 1, 0, 0, 0, 0, 1, 1, 1, 0, 0, 0, 1, 0, 1, 0, 1, 1, 0, 1, 0, 1, 1, 0, 1, 0, 1, 1, 1, 0, 0, 0, 0, 0, 1, 1, 0, 0, 0, 0, 1, 0, 0, 0, 0, 1, 0, 1, 0, 1, 1, 1, 1, 0, 0, 0]\n"
     ]
    }
   ],
   "source": [
    "print(leaked_data)"
   ]
  },
  {
   "cell_type": "markdown",
   "metadata": {},
   "source": [
    "You can also plot for example the patterns of 1's and 0's - this gets pretty squashed, so let's just look at a few hundred transitions:"
   ]
  },
  {
   "cell_type": "code",
   "execution_count": 51,
   "metadata": {},
   "outputs": [
    {
     "data": {
      "image/png": "[encoded data removed]",
      "text/plain": [
       "<Figure size 640x480 with 1 Axes>"
      ]
     },
     "metadata": {},
     "output_type": "display_data"
    }
   ],
   "source": [
    "import matplotlib.pylab as plt\n",
    "plt.plot(leaked_data[0:200])\n",
    "plt.show()"
   ]
  },
  {
   "cell_type": "markdown",
   "metadata": {},
   "source": [
    "Do you think we'll be able to get something useful out of this? Let's attack it to find out."
   ]
  },
  {
   "cell_type": "markdown",
   "metadata": {},
   "source": [
    "## 3. AES Guesser"
   ]
  },
  {
   "cell_type": "markdown",
   "metadata": {},
   "source": [
    "The attack is pretty simple. Let's just use our model of the device (we know what the encryption does after all, just not the secret key). And we'll feed (alimentar/abastecer) in the observed data for each possible value of the key. And then we can observe how many (if any) of the keys result in the observation and simulation matching each other. If the observation and simulation match, this suggets our simulation is running in the same \"setup\" as the implementation we are attacking!\n",
    "\n",
    "First, build a function to count the number of elements in a list that match between two lists (that is - same value of the element at the same list index). An easy way is to just iterate through the number of elements in the list and count the number that are the same. Fill in the following - there is already some bounds checking code to get you started.\n",
    "\n",
    "### 3.1 `num_same()`"
   ]
  },
  {
   "cell_type": "code",
   "execution_count": 52,
   "metadata": {},
   "outputs": [],
   "source": [
    "def num_same(a, b):\n",
    "    \n",
    "    if len(a) != len(b):\n",
    "        raise ValueError(\"Arrays must be same length!\")\n",
    "\n",
    "    if max(a) != max(b):\n",
    "        raise ValueError(\"Arrays max() should be the same!\")\n",
    "    \n",
    "    same = 0\n",
    "    for i in range(len(a)):\n",
    "        if a[i] == b[i]:\n",
    "            same += 1\n",
    "    \n",
    "    return same"
   ]
  },
  {
   "cell_type": "code",
   "execution_count": 55,
   "metadata": {},
   "outputs": [
    {
     "name": "stdout",
     "output_type": "stream",
     "text": [
      "✔️ OK to continue!\n"
     ]
    }
   ],
   "source": [
    "#Simple test vectors - if you get the check-mark printed all OK.\n",
    "assert(num_same([0,1,0,1,1,1,1,0], [0,1,0,1,1,1,1,0]) == 8)\n",
    "assert(num_same([1,1,1,0,0,0,0,0], [0,1,0,1,1,1,1,0]) == 2)\n",
    "assert(num_same([1, 0], [0, 1]) == 0)\n",
    "print(\"✔️ OK to continue!\")"
   ]
  },
  {
   "cell_type": "markdown",
   "metadata": {},
   "source": [
    "The next block is the most important. You'll need to \"apply\" the leakage function - that is for each known input byte, pass it through the `aes_internal(input_data, key_guess)` function. The value of `key_guess` is just integers in `[0x00, 0x01,...,0xFF]` - aka every possible value of the key byte. We'll compare the number of matching bits between our observed (leaked) data bit and the hypothetical data bit.\n",
    "\n",
    "### 3.2 Guessing Loop"
   ]
  },
  {
   "cell_type": "code",
   "execution_count": 56,
   "metadata": {
    "scrolled": true
   },
   "outputs": [
    {
     "name": "stdout",
     "output_type": "stream",
     "text": [
      "Guess 00:  450 bits same\n",
      "Guess 01:  452 bits same\n",
      "Guess 02:  504 bits same\n",
      "Guess 03:  533 bits same\n",
      "Guess 04:  490 bits same\n",
      "Guess 05:  459 bits same\n",
      "Guess 06:  475 bits same\n",
      "Guess 07:  509 bits same\n",
      "Guess 08:  467 bits same\n",
      "Guess 09:  510 bits same\n",
      "Guess 0A:  484 bits same\n",
      "Guess 0B:  510 bits same\n",
      "Guess 0C:  538 bits same\n",
      "Guess 0D:  499 bits same\n",
      "Guess 0E:  518 bits same\n",
      "Guess 0F:  510 bits same\n",
      "Guess 10:  512 bits same\n",
      "Guess 11:  546 bits same\n",
      "Guess 12:  445 bits same\n",
      "Guess 13:  535 bits same\n",
      "Guess 14:  536 bits same\n",
      "Guess 15:  474 bits same\n",
      "Guess 16:  482 bits same\n",
      "Guess 17:  533 bits same\n",
      "Guess 18:  499 bits same\n",
      "Guess 19:  485 bits same\n",
      "Guess 1A:  468 bits same\n",
      "Guess 1B:  526 bits same\n",
      "Guess 1C:  517 bits same\n",
      "Guess 1D:  433 bits same\n",
      "Guess 1E:  448 bits same\n",
      "Guess 1F:  504 bits same\n",
      "Guess 20:  477 bits same\n",
      "Guess 21:  541 bits same\n",
      "Guess 22:  468 bits same\n",
      "Guess 23:  475 bits same\n",
      "Guess 24:  520 bits same\n",
      "Guess 25:  438 bits same\n",
      "Guess 26:  558 bits same\n",
      "Guess 27:  449 bits same\n",
      "Guess 28:  479 bits same\n",
      "Guess 29:  483 bits same\n",
      "Guess 2A:  477 bits same\n",
      "Guess 2B:  493 bits same\n",
      "Guess 2C:  436 bits same\n",
      "Guess 2D:  517 bits same\n",
      "Guess 2E:  519 bits same\n",
      "Guess 2F:  473 bits same\n",
      "Guess 30:  529 bits same\n",
      "Guess 31:  569 bits same\n",
      "Guess 32:  467 bits same\n",
      "Guess 33:  540 bits same\n",
      "Guess 34:  559 bits same\n",
      "Guess 35:  472 bits same\n",
      "Guess 36:  535 bits same\n",
      "Guess 37:  541 bits same\n",
      "Guess 38:  503 bits same\n",
      "Guess 39:  477 bits same\n",
      "Guess 3A:  470 bits same\n",
      "Guess 3B:  526 bits same\n",
      "Guess 3C:  474 bits same\n",
      "Guess 3D:  576 bits same\n",
      "Guess 3E:  464 bits same\n",
      "Guess 3F:  454 bits same\n",
      "Guess 40:  486 bits same\n",
      "Guess 41:  493 bits same\n",
      "Guess 42:  456 bits same\n",
      "Guess 43:  489 bits same\n",
      "Guess 44:  541 bits same\n",
      "Guess 45:  504 bits same\n",
      "Guess 46:  542 bits same\n",
      "Guess 47:  484 bits same\n",
      "Guess 48:  480 bits same\n",
      "Guess 49:  429 bits same\n",
      "Guess 4A:  490 bits same\n",
      "Guess 4B:  508 bits same\n",
      "Guess 4C:  504 bits same\n",
      "Guess 4D:  525 bits same\n",
      "Guess 4E:  466 bits same\n",
      "Guess 4F:  468 bits same\n",
      "Guess 50:  555 bits same\n",
      "Guess 51:  504 bits same\n",
      "Guess 52:  485 bits same\n",
      "Guess 53:  560 bits same\n",
      "Guess 54:  490 bits same\n",
      "Guess 55:  538 bits same\n",
      "Guess 56:  476 bits same\n",
      "Guess 57:  477 bits same\n",
      "Guess 58:  462 bits same\n",
      "Guess 59:  452 bits same\n",
      "Guess 5A:  476 bits same\n",
      "Guess 5B:  477 bits same\n",
      "Guess 5C:  546 bits same\n",
      "Guess 5D:  504 bits same\n",
      "Guess 5E:  461 bits same\n",
      "Guess 5F:  452 bits same\n",
      "Guess 60:  454 bits same\n",
      "Guess 61:  508 bits same\n",
      "Guess 62:  550 bits same\n",
      "Guess 63:  491 bits same\n",
      "Guess 64:  518 bits same\n",
      "Guess 65:  525 bits same\n",
      "Guess 66:  560 bits same\n",
      "Guess 67:  451 bits same\n",
      "Guess 68:  436 bits same\n",
      "Guess 69:  513 bits same\n",
      "Guess 6A:  485 bits same\n",
      "Guess 6B:  519 bits same\n",
      "Guess 6C:  534 bits same\n",
      "Guess 6D:  535 bits same\n",
      "Guess 6E:  470 bits same\n",
      "Guess 6F:  487 bits same\n",
      "Guess 70:  464 bits same\n",
      "Guess 71:  446 bits same\n",
      "Guess 72:  484 bits same\n",
      "Guess 73:  505 bits same\n",
      "Guess 74:  514 bits same\n",
      "Guess 75:  500 bits same\n",
      "Guess 76:  464 bits same\n",
      "Guess 77:  494 bits same\n",
      "Guess 78:  431 bits same\n",
      "Guess 79:  503 bits same\n",
      "Guess 7A:  560 bits same\n",
      "Guess 7B:  459 bits same\n",
      "Guess 7C:  432 bits same\n",
      "Guess 7D:  520 bits same\n",
      "Guess 7E:  460 bits same\n",
      "Guess 7F:  478 bits same\n",
      "Guess 80:  491 bits same\n",
      "Guess 81:  527 bits same\n",
      "Guess 82:  552 bits same\n",
      "Guess 83:  478 bits same\n",
      "Guess 84:  530 bits same\n",
      "Guess 85:  513 bits same\n",
      "Guess 86:  469 bits same\n",
      "Guess 87:  509 bits same\n",
      "Guess 88:  451 bits same\n",
      "Guess 89:  530 bits same\n",
      "Guess 8A:  532 bits same\n",
      "Guess 8B:  495 bits same\n",
      "Guess 8C:  447 bits same\n",
      "Guess 8D:  529 bits same\n",
      "Guess 8E:  525 bits same\n",
      "Guess 8F:  513 bits same\n",
      "Guess 90:  443 bits same\n",
      "Guess 91:  536 bits same\n",
      "Guess 92:  566 bits same\n",
      "Guess 93:  541 bits same\n",
      "Guess 94:  475 bits same\n",
      "Guess 95:  507 bits same\n",
      "Guess 96:  481 bits same\n",
      "Guess 97:  441 bits same\n",
      "Guess 98:  478 bits same\n",
      "Guess 99:  541 bits same\n",
      "Guess 9A:  479 bits same\n",
      "Guess 9B:  462 bits same\n",
      "Guess 9C:  474 bits same\n",
      "Guess 9D:  468 bits same\n",
      "Guess 9E:  541 bits same\n",
      "Guess 9F:  485 bits same\n",
      "Guess A0:  479 bits same\n",
      "Guess A1:  452 bits same\n",
      "Guess A2:  447 bits same\n",
      "Guess A3:  540 bits same\n",
      "Guess A4:  531 bits same\n",
      "Guess A5:  462 bits same\n",
      "Guess A6:  536 bits same\n",
      "Guess A7:  460 bits same\n",
      "Guess A8:  533 bits same\n",
      "Guess A9:  512 bits same\n",
      "Guess AA:  440 bits same\n",
      "Guess AB:  523 bits same\n",
      "Guess AC:  497 bits same\n",
      "Guess AD:  518 bits same\n",
      "Guess AE:  467 bits same\n",
      "Guess AF:  469 bits same\n",
      "Guess B0:  536 bits same\n",
      "Guess B1:  483 bits same\n",
      "Guess B2:  505 bits same\n",
      "Guess B3:  577 bits same\n",
      "Guess B4:  496 bits same\n",
      "Guess B5:  502 bits same\n",
      "Guess B6:  503 bits same\n",
      "Guess B7:  517 bits same\n",
      "Guess B8:  573 bits same\n",
      "Guess B9:  518 bits same\n",
      "Guess BA:  516 bits same\n",
      "Guess BB:  510 bits same\n",
      "Guess BC:  467 bits same\n",
      "Guess BD:  516 bits same\n",
      "Guess BE:  462 bits same\n",
      "Guess BF:  474 bits same\n",
      "Guess C0:  436 bits same\n",
      "Guess C1:  465 bits same\n",
      "Guess C2:  482 bits same\n",
      "Guess C3:  461 bits same\n",
      "Guess C4:  509 bits same\n",
      "Guess C5:  559 bits same\n",
      "Guess C6:  514 bits same\n",
      "Guess C7:  551 bits same\n",
      "Guess C8:  515 bits same\n",
      "Guess C9:  554 bits same\n",
      "Guess CA:  489 bits same\n",
      "Guess CB:  533 bits same\n",
      "Guess CC:  503 bits same\n",
      "Guess CD:  503 bits same\n",
      "Guess CE:  498 bits same\n",
      "Guess CF:  549 bits same\n",
      "Guess D0:  510 bits same\n",
      "Guess D1:  533 bits same\n",
      "Guess D2:  522 bits same\n",
      "Guess D3:  458 bits same\n",
      "Guess D4:  434 bits same\n",
      "Guess D5:  555 bits same\n",
      "Guess D6:  481 bits same\n",
      "Guess D7:  563 bits same\n",
      "Guess D8:  532 bits same\n",
      "Guess D9:  524 bits same\n",
      "Guess DA:  549 bits same\n",
      "Guess DB:  416 bits same\n",
      "Guess DC:  480 bits same\n",
      "Guess DD:  517 bits same\n",
      "Guess DE:  512 bits same\n",
      "Guess DF:  527 bits same\n",
      "Guess E0:  481 bits same\n",
      "Guess E1:  519 bits same\n",
      "Guess E2:  481 bits same\n",
      "Guess E3:  476 bits same\n",
      "Guess E4:  500 bits same\n",
      "Guess E5:  476 bits same\n",
      "Guess E6:  485 bits same\n",
      "Guess E7:  470 bits same\n",
      "Guess E8:  562 bits same\n",
      "Guess E9:  464 bits same\n",
      "Guess EA:  551 bits same\n",
      "Guess EB:  477 bits same\n",
      "Guess EC:  509 bits same\n",
      "Guess ED:  541 bits same\n",
      "Guess EE:  474 bits same\n",
      "Guess EF: 1000 bits same\n",
      "Guess F0:  488 bits same\n",
      "Guess F1:  490 bits same\n",
      "Guess F2:  466 bits same\n",
      "Guess F3:  473 bits same\n",
      "Guess F4:  527 bits same\n",
      "Guess F5:  469 bits same\n",
      "Guess F6:  471 bits same\n",
      "Guess F7:  525 bits same\n",
      "Guess F8:  464 bits same\n",
      "Guess F9:  576 bits same\n",
      "Guess FA:  496 bits same\n",
      "Guess FB:  473 bits same\n",
      "Guess FC:  531 bits same\n",
      "Guess FD:  448 bits same\n",
      "Guess FE:  466 bits same\n",
      "Guess FF:  567 bits same\n"
     ]
    }
   ],
   "source": [
    "for guess in range(0, 256):   \n",
    "    \n",
    "    #Get a hypothetical leakage list - use aes_internal(guess, input_byte) and mask off to only get value of lowest bit\n",
    "    hypothetical_leakage = [(aes_internal(guess, a) & 0x01) for a in input_data]\n",
    "    \n",
    "    #Use our function\n",
    "    same_count = num_same(hypothetical_leakage, leaked_data)   \n",
    "    \n",
    "    #Print for debug\n",
    "    print(\"Guess {:02X}: {:4d} bits same\".format(guess, same_count))"
   ]
  },
  {
   "cell_type": "markdown",
   "metadata": {},
   "source": [
    "If your key guess is wrong, about half of the guesses should be wrong. Looking through the list, you'll see that most of the \"bits same\" numbers will be around 500. But scroll down to the correct key value (should be `0xEF` if you haven't changed it earlier). With any luck, that number should be fully correct - 1000 matching bits. This is only possible if the internal \"secret key\" byte matches the observed key."
   ]
  },
  {
   "cell_type": "markdown",
   "metadata": {},
   "source": [
    "### 3.3 `argsort` background\n",
    "\n",
    "Now a handy thing to do will be to sort based on the values by number of correct bits so we don't have to look through that list. An easy way to do this is with `numpy.argsort` - this returns the indicies that would sort the list. To start small, take the following for example:"
   ]
  },
  {
   "cell_type": "code",
   "execution_count": 57,
   "metadata": {},
   "outputs": [
    {
     "data": {
      "text/plain": [
       "array([0, 3, 4, 1, 2], dtype=int64)"
      ]
     },
     "execution_count": 57,
     "metadata": {},
     "output_type": "execute_result"
    }
   ],
   "source": [
    "import numpy as np\n",
    "\n",
    "count_list = [2, 7, 24, 4, 5]\n",
    "\n",
    "np.argsort(count_list)"
   ]
  },
  {
   "cell_type": "markdown",
   "metadata": {},
   "source": [
    "This should return `[0, 3, 4, 1, 2]` - you can cast the above to `list()` type if you want to get rid of the `array()` type around it.\n",
    "\n",
    "Inspecting the above, notice that this is the position of each from lowest to highest. We can reverse this to give us a highest to lowest sort instead:"
   ]
  },
  {
   "cell_type": "code",
   "execution_count": 58,
   "metadata": {},
   "outputs": [
    {
     "data": {
      "text/plain": [
       "array([2, 1, 4, 3, 0], dtype=int64)"
      ]
     },
     "execution_count": 58,
     "metadata": {},
     "output_type": "execute_result"
    }
   ],
   "source": [
    "import numpy as np\n",
    "\n",
    "count_list = [2, 7, 24, 4, 5]\n",
    "\n",
    "np.argsort(count_list)[::-1]"
   ]
  },
  {
   "cell_type": "markdown",
   "metadata": {},
   "source": [
    "Taking your previous code, simply make a new list which contains the number of elements which are the same, where the list index is the *key guess*. As a rough outline, see the following (you'll need to add back in your hypothetical code):\n",
    "\n",
    "### 3.4 Guessing loop with sort"
   ]
  },
  {
   "cell_type": "code",
   "execution_count": 59,
   "metadata": {},
   "outputs": [
    {
     "name": "stdout",
     "output_type": "stream",
     "text": [
      "Key Guess EF = 1000 matches\n",
      "Key Guess B3 = 0577 matches\n",
      "Key Guess F9 = 0576 matches\n",
      "Key Guess 3D = 0576 matches\n",
      "Key Guess B8 = 0573 matches\n"
     ]
    }
   ],
   "source": [
    "import numpy as np\n",
    "\n",
    "guess_list = [0] * 256\n",
    "\n",
    "for guess in range(0, 256):   \n",
    "    \n",
    "    hypothetical_leakage = [(aes_internal(guess, a) & 0x01) for a in input_data]\n",
    "    \n",
    "    #Use our function\n",
    "    same_count = num_same(hypothetical_leakage, leaked_data)   \n",
    "    \n",
    "    #Track the number of correct bits\n",
    "    guess_list[guess] = same_count\n",
    "\n",
    "#Use np.argsort to generate a list of indicies from low to high, then [::-1] to reverse the list to get high to low.\n",
    "sorted_list = np.argsort(guess_list)[::-1]\n",
    "\n",
    "#Print top 5 only\n",
    "for guess in sorted_list[0:5]:\n",
    "        print(\"Key Guess {:02X} = {:04d} matches\".format(guess, guess_list[guess]))"
   ]
  },
  {
   "cell_type": "markdown",
   "metadata": {},
   "source": [
    "In this case we know that bit '0' was the leakage. What if we didn't know that? Imagine putting our needle down onto the internal bus, but we aren't sure what bit we touched.\n",
    "\n",
    "Luckily we can easily test that. To do so, we'll need to adjust our leakage function to take in a bit number that is leaking. First, define a function which returns the value of a bit being 1 or 0:\n",
    "\n",
    "### 3.5 `get_bit()`"
   ]
  },
  {
   "cell_type": "code",
   "execution_count": 64,
   "metadata": {},
   "outputs": [],
   "source": [
    "def get_bit(data, bit_position):\n",
    "    return (data >> bit_position) & 0x01"
   ]
  },
  {
   "cell_type": "code",
   "execution_count": 65,
   "metadata": {},
   "outputs": [
    {
     "name": "stdout",
     "output_type": "stream",
     "text": [
      "✔️ OK to continue!\n"
     ]
    }
   ],
   "source": [
    "assert(get_bit(0xAA, 7) == 1)\n",
    "assert(get_bit(0xAA, 0) == 0)\n",
    "assert(get_bit(0x00, 7) == 0)\n",
    "print(\"✔️ OK to continue!\")"
   ]
  },
  {
   "cell_type": "markdown",
   "metadata": {},
   "source": [
    "Now let's make a slightly fancier leakage function with it:"
   ]
  },
  {
   "cell_type": "code",
   "execution_count": 66,
   "metadata": {},
   "outputs": [],
   "source": [
    "def aes_leakage_guess(keyguess, inputdata, bit):\n",
    "    return get_bit(aes_internal(keyguess, inputdata), bit)"
   ]
  },
  {
   "cell_type": "code",
   "execution_count": 67,
   "metadata": {},
   "outputs": [
    {
     "name": "stdout",
     "output_type": "stream",
     "text": [
      "✔️ OK to continue!\n"
     ]
    }
   ],
   "source": [
    "assert(aes_leakage_guess(0xAB, 0x22, 4) == 0)\n",
    "assert(aes_leakage_guess(0xAB, 0x22, 3) == 0)\n",
    "assert(aes_leakage_guess(0xAB, 0x22, 2) == 1)\n",
    "assert(aes_leakage_guess(0xAB, 0x22, 1) == 1)\n",
    "assert(aes_leakage_guess(0xAB, 0x22, 0) == 1)\n",
    "print(\"✔️ OK to continue!\")"
   ]
  },
  {
   "cell_type": "markdown",
   "metadata": {},
   "source": [
    "Finally, finish off this loop by adding your leakage function into it. Running the loop should print results for each bit option - hopefully you see that only the matching bit shows the full number of matches. If you want to try a different leaky bit, you'll then need to go back up to the actual secret observation to make the leak happen from a different bit. But you can see the following code makes no assumptions about 'bit 0' being the leaky one - it will work with any other bit leaking now.\n",
    "\n",
    "### 3.6 Bitwise Guessing Loop"
   ]
  },
  {
   "cell_type": "code",
   "execution_count": null,
   "metadata": {},
   "outputs": [],
   "source": [
    "for bit_guess in range(0, 8):\n",
    "    guess_list = [0] * 256\n",
    "    print(\"Checking bit {:d}\".format(bit_guess))\n",
    "    for guess in range(0, 256):\n",
    "\n",
    "        #Get a hypothetical leakage for guessed bit (ensure returns 1/0 only)\n",
    "        #Use bit_guess as the bit number, guess as the key guess, and data from input_data\n",
    "        hypothetical_leakage = ???\n",
    "        \n",
    "#Get a hypothetical leakage list - use aes_internal(guess, input_byte) and mask off to only get value of lowest bit\n",
    "\n",
    "        #Use our function\n",
    "        same_count = num_same(hypothetical_leakage, leaked_data)   \n",
    "\n",
    "        #Track the number of correct bits\n",
    "        guess_list[guess] = same_count\n",
    "\n",
    "    sorted_list = np.argsort(guess_list)[::-1]\n",
    "\n",
    "    #Print top 5 only\n",
    "    for guess in sorted_list[0:5]:\n",
    "            print(\"Key Guess {:02X} = {:04d} matches\".format(guess, guess_list[guess]))"
   ]
  },
  {
   "cell_type": "markdown",
   "metadata": {},
   "source": [
    "🥳🥳🥳🥳🥳🥳🥳🥳🥳🥳🥳🥳🥳\n",
    "Congrats - you did it!!!!\n",
    "\n",
    "This all assumed you get some way to observe the value of the bit - in our next act, we'll see how power analysis gives us the ability to observe a given bit."
   ]
  },
  {
   "cell_type": "markdown",
   "metadata": {},
   "source": [
    "## 4. Bonus: Adding Noise and Plotting Success Rates\n",
    "\n",
    "Are you not satisified by your attack? Why not see what happens when you add some noise into the equation?\n",
    "\n",
    "Remember this simple leakage from earlier:\n",
    "\n",
    "```python\n",
    "    leaked_data = [(aes_secret(a) & 0x01) for a in input_data]\n",
    "```\n",
    "\n",
    "This relied on another function `aes_secret()`, which we could define as such to return incorrect responses sometimes:\n",
    "\n",
    "```python\n",
    "    import random\n",
    "    def aes_secret(inputdata):\n",
    "        secret_key = 0xEF\n",
    "        correct = aes_internal(secret_key, inputdata)\n",
    "        \n",
    "        if random.randint(0, 100) < 10:\n",
    "            return correct\n",
    "        else\n",
    "            return 0 \n",
    "        \n",
    "```\n",
    "\n",
    "What happens now? While it should take more guesses to get the correct byte out. In fact, we could even make a plot of the percentage of returned wrong results, and how many observations it took to get the correct answer.\n",
    "\n",
    "The end result should look something like this:\n",
    "\n",
    "<img src=\"img/traces_wrong.png\" alt=\"Noisy Observations\" width=\"450\"/>\n",
    "\n",
    "Give it a try. If you get stuck of course you can check out the solution lab too - this one is a little trickier, we really threw you in the deep end here. Don't feel bad looking for a ⛑️.\n",
    "\n",
    "You'll notice the data is pretty noisy too. You might want to average several attempts. And you can also set the leakage to be a tiny amount of information only - it will require more observations to recover the data, but the data is fundamentally there still."
   ]
  },
  {
   "cell_type": "markdown",
   "metadata": {},
   "source": [
    "---\n",
    "<small>NO-FUN DISCLAIMER: This material is Copyright (C) NewAE Technology Inc., 2015-2020. ChipWhisperer is a trademark of NewAE Technology Inc., claimed in all jurisdictions, and registered in at least the United States of America, European Union, and Peoples Republic of China.\n",
    "\n",
    "Tutorials derived from our open-source work must be released under the associated open-source license, and notice of the source must be *clearly displayed*. Only original copyright holders may license or authorize other distribution - while NewAE Technology Inc. holds the copyright for many tutorials, the github repository includes community contributions which we cannot license under special terms and **must** be maintained as an open-source release. Please contact us for special permissions (where possible).\n",
    "\n",
    "THE SOFTWARE IS PROVIDED \"AS IS\", WITHOUT WARRANTY OF ANY KIND, EXPRESS OR IMPLIED, INCLUDING BUT NOT LIMITED TO THE WARRANTIES OF MERCHANTABILITY, FITNESS FOR A PARTICULAR PURPOSE AND NONINFRINGEMENT. IN NO EVENT SHALL THE AUTHORS OR COPYRIGHT HOLDERS BE LIABLE FOR ANY CLAIM, DAMAGES OR OTHER LIABILITY, WHETHER IN AN ACTION OF CONTRACT, TORT OR OTHERWISE, ARISING FROM, OUT OF OR IN CONNECTION WITH THE SOFTWARE OR THE USE OR OTHER DEALINGS IN THE SOFTWARE.</small>"
   ]
  }
 ],
 "metadata": {
  "kernelspec": {
   "display_name": "Python 3 (ipykernel)",
   "language": "python",
   "name": "python3"
  },
  "language_info": {
   "codemirror_mode": {
    "name": "ipython",
    "version": 3
   },
   "file_extension": ".py",
   "mimetype": "text/x-python",
   "name": "python",
   "nbconvert_exporter": "python",
   "pygments_lexer": "ipython3",
   "version": "3.10.11"
  }
 },
 "nbformat": 4,
 "nbformat_minor": 2
}
