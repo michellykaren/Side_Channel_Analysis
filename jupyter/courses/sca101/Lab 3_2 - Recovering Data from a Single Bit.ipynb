{
 "cells": [
  {
   "cell_type": "markdown",
   "metadata": {},
   "source": [
    "# Part 3, Topic 2: Recovering AES Key from a Single Bit of Data"
   ]
  },
  {
   "cell_type": "markdown",
   "metadata": {},
   "source": [
    "---\n",
    "NOTE: This lab references some (commercial) training material on [ChipWhisperer.io](https://www.ChipWhisperer.io). You can freely execute and use the lab per the open-source license (including using it in your own courses if you distribute similarly), but you must maintain notice about this source location. Consider joining our training course to enjoy the full experience.\n",
    "\n",
    "---"
   ]
  },
  {
   "cell_type": "markdown",
   "metadata": {},
   "source": [
    "Let's do a basic demo to recover a single bit of data from an internal state of an AES implementation, and see how far we can take our attack.\n",
    "\n",
    "\n",
    "**SUMMARY:** *This lab will take you through the associated information about how to recover an AES key from a single \"bit\" of leakage. We already saw how power analysis can be used to understand device leakage, but how does that mean we can recover cryptographic information?*\n",
    "\n",
    "**LEARNING OUTCOMES:**\n",
    "\n",
    "* Understand some basics of the AES algorithm.\n",
    "* See how a single bit of leakage can translate to a full key reveal.\n",
    "* See how to sort and ranking lists.\n"
   ]
  },
  {
   "cell_type": "markdown",
   "metadata": {},
   "source": [
    "## 1. AES Refresher"
   ]
  },
  {
   "cell_type": "markdown",
   "metadata": {},
   "source": [
    "You'll be an expert at AES (or recognizing AES figures) by the end of this course! Remember that the input data flow for AES is something like this:\n",
    "\n",
    "![aes-input-sbox](img/aesinput.png)\n",
    "\n",
    "Where the input data is XOR'd with a key byte, and then passed through an S-Box. First, let's build our AES model. I'm going to make your life slightly easier by giving you the S-Box data:"
   ]
  },
  {
   "cell_type": "code",
   "execution_count": 1,
   "metadata": {},
   "outputs": [],
   "source": [
    "sbox = [\n",
    "    # 0    1    2    3    4    5    6    7    8    9    a    b    c    d    e    f \n",
    "    0x63,0x7c,0x77,0x7b,0xf2,0x6b,0x6f,0xc5,0x30,0x01,0x67,0x2b,0xfe,0xd7,0xab,0x76, # 0\n",
    "    0xca,0x82,0xc9,0x7d,0xfa,0x59,0x47,0xf0,0xad,0xd4,0xa2,0xaf,0x9c,0xa4,0x72,0xc0, # 1\n",
    "    0xb7,0xfd,0x93,0x26,0x36,0x3f,0xf7,0xcc,0x34,0xa5,0xe5,0xf1,0x71,0xd8,0x31,0x15, # 2\n",
    "    0x04,0xc7,0x23,0xc3,0x18,0x96,0x05,0x9a,0x07,0x12,0x80,0xe2,0xeb,0x27,0xb2,0x75, # 3\n",
    "    0x09,0x83,0x2c,0x1a,0x1b,0x6e,0x5a,0xa0,0x52,0x3b,0xd6,0xb3,0x29,0xe3,0x2f,0x84, # 4\n",
    "    0x53,0xd1,0x00,0xed,0x20,0xfc,0xb1,0x5b,0x6a,0xcb,0xbe,0x39,0x4a,0x4c,0x58,0xcf, # 5\n",
    "    0xd0,0xef,0xaa,0xfb,0x43,0x4d,0x33,0x85,0x45,0xf9,0x02,0x7f,0x50,0x3c,0x9f,0xa8, # 6\n",
    "    0x51,0xa3,0x40,0x8f,0x92,0x9d,0x38,0xf5,0xbc,0xb6,0xda,0x21,0x10,0xff,0xf3,0xd2, # 7\n",
    "    0xcd,0x0c,0x13,0xec,0x5f,0x97,0x44,0x17,0xc4,0xa7,0x7e,0x3d,0x64,0x5d,0x19,0x73, # 8\n",
    "    0x60,0x81,0x4f,0xdc,0x22,0x2a,0x90,0x88,0x46,0xee,0xb8,0x14,0xde,0x5e,0x0b,0xdb, # 9\n",
    "    0xe0,0x32,0x3a,0x0a,0x49,0x06,0x24,0x5c,0xc2,0xd3,0xac,0x62,0x91,0x95,0xe4,0x79, # a\n",
    "    0xe7,0xc8,0x37,0x6d,0x8d,0xd5,0x4e,0xa9,0x6c,0x56,0xf4,0xea,0x65,0x7a,0xae,0x08, # b\n",
    "    0xba,0x78,0x25,0x2e,0x1c,0xa6,0xb4,0xc6,0xe8,0xdd,0x74,0x1f,0x4b,0xbd,0x8b,0x8a, # c\n",
    "    0x70,0x3e,0xb5,0x66,0x48,0x03,0xf6,0x0e,0x61,0x35,0x57,0xb9,0x86,0xc1,0x1d,0x9e, # d\n",
    "    0xe1,0xf8,0x98,0x11,0x69,0xd9,0x8e,0x94,0x9b,0x1e,0x87,0xe9,0xce,0x55,0x28,0xdf, # e\n",
    "    0x8c,0xa1,0x89,0x0d,0xbf,0xe6,0x42,0x68,0x41,0x99,0x2d,0x0f,0xb0,0x54,0xbb,0x16  # f\n",
    "]"
   ]
  },
  {
   "cell_type": "markdown",
   "metadata": {},
   "source": [
    "Alright - that should be enough for you to build a simple function that XORs a secret key value with the input data, and then performs a lookup in the above table. Before you continue, modify the following code block to implement the correct function:\n",
    "\n",
    "### 1.1 `aes_internal()`"
   ]
  },
  {
   "cell_type": "code",
   "execution_count": 2,
   "metadata": {},
   "outputs": [],
   "source": [
    "def aes_internal(inputdata, key):\n",
    "    return (sbox[inputdata^key])"
   ]
  },
  {
   "cell_type": "markdown",
   "metadata": {},
   "source": [
    "With that working - go ahead and run the following test vectors. If the values are not as expected, check your implementation. If the following executes without error, then go onto the next part."
   ]
  },
  {
   "cell_type": "code",
   "execution_count": 3,
   "metadata": {},
   "outputs": [
    {
     "name": "stdout",
     "output_type": "stream",
     "text": [
      "27\n",
      "✔️ OK to continue!\n"
     ]
    }
   ],
   "source": [
    "#Simple test vectors - if you get the check-mark printed all OK.\n",
    "print(aes_internal(0xAB, 0xEF))\n",
    "assert(aes_internal(0xAB, 0xEF) == 0x1B)\n",
    "assert(aes_internal(0x22, 0x01) == 0x26)\n",
    "print(\"✔️ OK to continue!\")"
   ]
  },
  {
   "cell_type": "markdown",
   "metadata": {},
   "source": [
    "Finally - we'll make a new function which doesn't expose the key. The following function has some hard-coded key. You can change this key byte if you'd like, and see it recovered at a later step!\n",
    "\n",
    "## 1.2 `aes_secret()`"
   ]
  },
  {
   "cell_type": "code",
   "execution_count": 4,
   "metadata": {},
   "outputs": [],
   "source": [
    "def aes_secret(inputdata):\n",
    "    secret_key = 0xBE\n",
    "    return aes_internal(secret_key, inputdata)"
   ]
  },
  {
   "cell_type": "code",
   "execution_count": 5,
   "metadata": {},
   "outputs": [
    {
     "name": "stdout",
     "output_type": "stream",
     "text": [
      "0x59\n"
     ]
    }
   ],
   "source": [
    "print(hex(aes_secret(0xAB)))"
   ]
  },
  {
   "cell_type": "markdown",
   "metadata": {},
   "source": [
    "At this point, we can get the value of some internal part of the AES algorithm. For our first attack, we're going to assume that we can't observe this entire value. Let's just observe a single bit of the value - imagine that someone put a probe down inside the chip to get this. We can do this by simply throwing away [simplesmente jogando fora] all the other data besides a single bit, and only expose that single bit to the observer.\n",
    "\n",
    "Let's build the watcher now."
   ]
  },
  {
   "cell_type": "markdown",
   "metadata": {},
   "source": [
    "## 2. AES Watcher"
   ]
  },
  {
   "cell_type": "markdown",
   "metadata": {},
   "source": [
    "The watcher is going to observe a single bit of data. We'll need to build lists of input we feed to the algorithm (we're just going to send in 1000 random bytes that get 'encrypted'), as well as [bem como] lists to hold our observation. In case you're still picking up Python, here are a few handy little things you might need in this section:"
   ]
  },
  {
   "cell_type": "code",
   "execution_count": 6,
   "metadata": {},
   "outputs": [
    {
     "name": "stdout",
     "output_type": "stream",
     "text": [
      "[5, 6, 9, 10]\n",
      "[46, 88, 191, 84, 147, 213, 161, 152, 212, 188, 7, 198, 236, 139, 138, 5, 155, 198, 167, 229, 20, 125, 34, 117, 252, 165, 211, 59, 124, 55, 120, 228, 228, 58, 137, 105, 238, 215, 246, 6, 153, 33, 99, 140, 67, 16, 190, 64, 135, 204, 6, 51, 134, 256, 42, 204, 7, 52, 141, 52, 45, 11, 86, 245, 247, 26, 106, 84, 7, 106, 121, 230, 165, 180, 123, 192, 163, 114, 157, 96, 27, 249, 82, 4, 209, 40, 185, 201, 235, 123, 248, 73, 212, 174, 64, 220, 10, 48, 31, 112, 160, 192, 229, 245, 157, 107, 89, 258, 70, 234, 251, 248, 97, 11, 84, 33, 71, 44, 95, 67, 197, 235, 245, 165, 31, 222, 113, 218, 37, 13, 202, 96, 180, 205, 30, 180, 7, 159, 29, 95, 239, 17, 18, 67, 36, 23, 12, 240, 21, 70, 196, 38, 35, 99, 104, 229, 189, 244, 34, 219, 109, 241, 164, 186, 162, 160, 101, 254, 27, 172, 130, 103, 194, 200, 126, 113, 160, 158, 118, 107, 18, 103, 14, 154, 188, 126, 97, 206, 16, 216, 16, 257, 76, 146, 13, 216, 177, 149, 205, 200, 25, 127, 205, 193, 218, 111, 249, 248, 129, 12, 66, 188, 217, 91, 235, 252, 132, 223, 149, 83, 195, 186, 179, 124, 61, 57, 214, 37, 208, 39, 155, 230, 14, 49, 17, 202, 165, 50, 162, 253, 143, 20, 59, 51, 200, 209, 198, 252, 140, 53, 243, 117, 40, 176, 34, 205, 102, 148, 109, 130, 64, 86, 66, 230, 59, 175, 42, 41, 116, 38, 18, 156, 71, 104, 21, 164, 120, 199, 106, 105, 47, 257, 40, 151, 209, 76, 93, 50, 217, 30, 184, 59, 137, 181, 171, 135, 56, 138, 43, 4, 181, 154, 77, 201, 71, 64, 51, 71, 230, 55, 134, 221, 28, 190, 118, 229, 148, 136, 119, 113, 73, 13, 152, 98, 184, 87, 250, 104, 142, 180, 152, 25, 233, 159, 95, 228, 52, 16, 28, 88, 163, 242, 207, 194, 58, 226, 146, 193, 29, 198, 96, 225, 192, 124, 154, 240, 62, 108, 43, 234, 168, 236, 169, 8, 88, 155, 212, 104, 36, 136, 112, 62, 227, 20, 49, 88, 255, 142, 30, 53, 20, 129, 146, 4, 240, 13, 209, 71, 236, 130, 195, 156, 7, 139, 146, 62, 200, 97, 133, 245, 167, 186, 79, 200, 236, 139, 194, 5, 206, 34, 142, 15, 175, 69, 149, 27, 121, 230, 202, 141, 227, 54, 258, 102, 247, 210, 233, 158, 207, 17, 209, 212, 68, 231, 61, 44, 113, 140, 254, 79, 167, 25, 39, 37, 35, 33, 163, 112, 48, 203, 249, 12, 162, 120, 250, 167, 209, 133, 211, 168, 22, 213, 258, 254, 13, 218, 250, 217, 197, 215, 185, 125, 26, 131, 128, 200, 240, 62, 103, 222, 181, 157, 35, 186, 142, 47, 4, 206, 170, 249, 161, 100, 8, 177, 254, 102, 19, 184, 79, 85, 255, 74, 139, 30, 44, 210, 80, 256, 185, 132, 254, 210, 43, 35, 170, 196, 15, 197, 32, 112, 46, 180, 107, 33, 90, 57, 158, 29, 177, 191, 25, 55, 192, 7, 19, 123, 192, 110, 132, 259, 168, 134, 31, 56, 219, 37, 51, 118, 30, 30, 176, 69, 13, 129, 214, 53, 15, 226, 169, 160, 229, 228, 160, 254, 241, 132, 220, 149, 24, 22, 254, 104, 71, 173, 218, 252, 223, 124, 168, 98, 48, 179, 20, 217, 220, 131, 115, 14, 238, 255, 180, 41, 148, 133, 197, 137, 53, 30, 205, 55, 225, 13, 110, 223, 54, 59, 218, 106, 222, 43, 30, 24, 93, 83, 192, 244, 71, 127, 88, 255, 192, 244, 159, 200, 172, 37, 52, 235, 8, 142, 76, 256, 130, 11, 222, 106, 111, 100, 106, 242, 133, 30, 10, 73, 213, 116, 152, 154, 177, 133, 4, 176, 84, 68, 220, 232, 114, 141, 150, 196, 249, 206, 114, 26, 98, 175, 186, 210, 192, 111, 183, 223, 30, 253, 152, 9, 72, 202, 103, 58, 150, 49, 93, 176, 231, 113, 210, 5, 154, 155, 239, 143, 129, 101, 88, 91, 232, 221, 202, 223, 29, 203, 176, 135, 12, 22, 227, 212, 73, 32, 135, 223, 176, 111, 77, 103, 234, 48, 247, 99, 206, 82, 139, 250, 57, 123, 124, 207, 102, 9, 74, 159, 94, 60, 83, 161, 161, 145, 26, 125, 162, 42, 202, 59, 211, 174, 240, 142, 142, 27, 16, 152, 228, 91, 38, 50, 97, 90, 78, 31, 177, 65, 244, 215, 120, 138, 238, 27, 59, 64, 89, 80, 137, 51, 201, 184, 165, 63, 137, 35, 8, 225, 196, 141, 178, 112, 70, 151, 69, 130, 167, 193, 255, 142, 250, 228, 59, 168, 218, 230, 205, 179, 237, 161, 24, 142, 234, 21, 147, 49, 236, 169, 180, 251, 15, 141, 218, 166, 237, 60, 15, 179, 192, 11, 88, 33, 157, 235, 32, 216, 23, 231, 234, 183, 193, 121, 16, 243, 66, 244, 57, 46, 20, 40, 53, 32, 97, 217, 26, 4, 90, 102, 7, 102, 205, 117, 212, 115, 149, 38, 17, 64, 172, 65, 206, 75, 121, 18, 108, 22, 220, 163, 227, 23, 94, 137, 53, 149, 245, 113, 65, 210, 31, 119, 37, 256, 56, 43, 76, 9, 49, 162, 121, 63, 220, 4, 63, 85, 41, 151, 218, 39, 255, 28, 199, 120, 47, 45, 152, 255, 216, 175, 80, 141, 33, 127, 5, 249, 95, 245, 66, 39, 168, 154, 61, 207, 10, 148, 114, 198, 50, 175, 77, 118, 196, 251, 21, 160, 222, 132, 180, 139, 29, 144, 117, 37, 90, 255, 133, 163, 157, 117, 195, 127, 87, 107, 113, 22, 103, 89, 182, 207, 228, 67, 219, 196, 244, 57, 98, 195, 259, 152, 196, 207, 173, 177, 39, 258, 33, 82, 39, 158, 57, 185, 23, 149, 149, 77, 27, 126, 91, 206, 155, 227, 213, 225, 203, 87, 90, 43]\n"
     ]
    }
   ],
   "source": [
    "##Some Python hints/useful functions:\n",
    "\n",
    "# You can use this function to generate the random data\n",
    "import random\n",
    "random.randint(0, 255)\n",
    "\n",
    "# List comprehension can be used to shovel data through a function\n",
    "def somefunc(a):\n",
    "    return a + 4\n",
    "input_data = [1,2,5,6]\n",
    "output_data = [somefunc(a) for a in input_data]\n",
    "\n",
    "print(output_data)\n",
    "# You can use this while ignoring the index variable too\n",
    "output_data = [somefunc(random.randint(0,255)) for _ in range(0, 1000)]\n",
    "print(output_data)"
   ]
  },
  {
   "cell_type": "markdown",
   "metadata": {},
   "source": [
    "Your first objective is to build a list of data you are encrypted with aes_secret(). This should be a 1000-item random number which ranges from 0 to 255. Call it `input_data`. For example if you print the `input_data` list it could look like `[2, 49, 0, 212, 94, 255, ... , 7]`, where there are 1000 elements in total. Fill in the following code to make a list of the 1000 random values in the correct range (see hints above if you need some Python syntax). \n",
    "\n",
    "### 2.1 Generation of `input_data`"
   ]
  },
  {
   "cell_type": "code",
   "execution_count": 7,
   "metadata": {},
   "outputs": [
    {
     "name": "stdout",
     "output_type": "stream",
     "text": [
      "1000\n",
      "[248, 14, 9, 155, 74, 109, 91, 117, 4, 55, 235, 206, 176, 99, 68, 15, 185, 37, 216, 170, 150, 244, 106, 112, 162, 250, 139, 36, 232, 38, 104, 162, 97, 103, 206, 115, 201, 109, 9, 215, 147, 230, 85, 3, 218, 48, 151, 201, 227, 8, 87, 122, 65, 133, 114, 137, 36, 83, 194, 67, 27, 173, 200, 178, 223, 54, 135, 92, 45, 239, 88, 143, 146, 139, 250, 127, 115, 3, 247, 34, 185, 224, 56, 47, 72, 170, 201, 100, 133, 193, 222, 135, 64, 94, 126, 235, 114, 21, 164, 91, 249, 90, 108, 85, 0, 203, 125, 253, 235, 156, 218, 11, 131, 234, 104, 158, 32, 52, 103, 139, 250, 83, 102, 23, 48, 24, 228, 213, 115, 124, 106, 139, 144, 141, 123, 221, 235, 154, 114, 213, 239, 24, 111, 75, 208, 62, 36, 32, 141, 1, 155, 33, 161, 129, 45, 87, 104, 162, 55, 208, 136, 68, 250, 40, 255, 250, 175, 66, 136, 101, 26, 13, 125, 207, 185, 5, 96, 152, 166, 8, 10, 181, 180, 3, 215, 190, 163, 126, 149, 179, 87, 190, 77, 72, 133, 254, 116, 184, 98, 206, 60, 240, 162, 195, 165, 69, 107, 238, 113, 65, 209, 16, 49, 163, 131, 47, 151, 173, 89, 24, 44, 105, 33, 201, 233, 224, 8, 140, 199, 56, 157, 133, 83, 42, 180, 64, 235, 12, 191, 126, 120, 67, 124, 98, 215, 255, 49, 113, 215, 233, 77, 83, 222, 185, 135, 80, 35, 201, 47, 15, 8, 27, 49, 49, 146, 50, 216, 190, 217, 177, 248, 131, 107, 144, 184, 35, 18, 183, 168, 18, 190, 108, 12, 202, 21, 141, 71, 202, 186, 66, 5, 9, 14, 91, 205, 138, 73, 207, 8, 30, 21, 59, 61, 179, 233, 234, 212, 34, 61, 94, 252, 217, 108, 2, 135, 51, 43, 170, 184, 108, 36, 75, 213, 225, 205, 225, 198, 228, 65, 168, 191, 245, 182, 4, 192, 181, 27, 124, 93, 218, 133, 177, 53, 163, 29, 155, 220, 55, 12, 39, 146, 232, 245, 139, 170, 228, 38, 190, 184, 131, 223, 160, 58, 175, 219, 191, 8, 25, 230, 228, 83, 52, 236, 194, 100, 232, 84, 210, 179, 182, 248, 51, 127, 14, 153, 142, 164, 254, 38, 238, 43, 193, 222, 193, 6, 37, 241, 155, 123, 249, 69, 189, 140, 230, 227, 54, 112, 240, 44, 35, 52, 92, 129, 146, 83, 252, 133, 77, 176, 22, 17, 28, 186, 208, 69, 41, 187, 181, 169, 241, 100, 63, 178, 187, 171, 134, 129, 82, 35, 169, 116, 179, 188, 42, 159, 34, 140, 164, 237, 107, 141, 206, 146, 245, 194, 117, 218, 155, 131, 219, 10, 157, 89, 38, 191, 232, 31, 154, 179, 139, 103, 223, 76, 77, 186, 25, 54, 112, 75, 239, 227, 148, 135, 163, 242, 118, 36, 3, 209, 238, 86, 23, 107, 161, 109, 124, 80, 167, 132, 252, 46, 111, 217, 41, 33, 13, 79, 94, 100, 76, 65, 83, 1, 82, 2, 171, 86, 198, 167, 165, 30, 231, 219, 105, 80, 252, 216, 122, 226, 160, 187, 194, 246, 247, 118, 69, 100, 198, 127, 58, 239, 125, 41, 43, 38, 69, 181, 16, 90, 147, 184, 202, 87, 15, 61, 108, 97, 220, 47, 53, 5, 38, 225, 14, 8, 131, 172, 239, 56, 180, 244, 95, 235, 218, 47, 167, 82, 206, 90, 210, 202, 245, 182, 110, 32, 12, 194, 176, 151, 155, 10, 198, 111, 230, 192, 255, 223, 247, 55, 68, 202, 152, 89, 159, 100, 82, 156, 107, 119, 112, 81, 98, 38, 124, 80, 24, 183, 220, 137, 169, 87, 28, 156, 96, 189, 101, 241, 18, 132, 198, 17, 174, 198, 224, 13, 147, 52, 122, 241, 131, 41, 147, 220, 96, 169, 115, 56, 171, 213, 150, 146, 201, 39, 9, 228, 22, 245, 242, 200, 214, 196, 219, 95, 125, 33, 165, 213, 222, 230, 219, 188, 193, 117, 228, 2, 144, 205, 130, 45, 208, 237, 131, 227, 212, 60, 13, 157, 96, 55, 61, 35, 48, 223, 234, 55, 148, 187, 109, 206, 239, 252, 148, 110, 175, 112, 185, 18, 236, 141, 228, 202, 218, 2, 23, 86, 140, 235, 225, 199, 75, 127, 90, 57, 105, 253, 208, 141, 132, 24, 102, 170, 197, 1, 242, 158, 71, 244, 174, 241, 75, 252, 111, 183, 252, 222, 44, 162, 129, 104, 183, 123, 164, 250, 52, 100, 183, 179, 248, 98, 158, 230, 60, 212, 237, 239, 15, 80, 181, 70, 59, 180, 28, 109, 62, 226, 143, 230, 47, 177, 127, 191, 216, 192, 245, 86, 249, 47, 20, 221, 127, 62, 123, 163, 20, 137, 18, 192, 46, 73, 190, 216, 72, 72, 245, 211, 235, 242, 72, 119, 118, 241, 186, 167, 109, 214, 99, 70, 2, 124, 48, 118, 176, 21, 229, 37, 245, 161, 53, 92, 90, 223, 224, 67, 190, 77, 48, 9, 194, 4, 140, 179, 177, 79, 203, 211, 198, 231, 108, 68, 190, 52, 223, 73, 82, 253, 253, 73, 48, 195, 189, 203, 225, 254, 51, 76, 39, 133, 47, 196, 109, 241, 73, 42, 226, 124, 66, 112, 152, 153, 180, 43, 117, 172, 112, 213, 86, 249, 201, 155, 153, 29, 175, 254, 111, 30, 45, 37, 166, 195, 202, 160, 147, 6, 214, 168, 90, 216, 134, 142, 236, 182, 218, 157, 243, 222, 242, 32, 21, 49, 232, 134, 196, 238, 72, 146, 209, 182, 115, 45, 4, 33, 138, 208, 60, 170, 6, 192, 109, 85, 138, 56, 65, 252, 204, 1, 51, 161, 122, 203, 43, 109, 23, 4, 203, 68, 200, 64, 36, 81, 148, 101, 136, 44, 113, 209, 124, 158, 71, 244, 50, 5, 142, 123, 82, 253, 107, 160, 214, 32, 5, 34, 47, 158, 89, 96, 127, 108, 230, 158, 142, 214, 26, 232, 192, 104, 123, 11, 120, 225, 156]\n"
     ]
    }
   ],
   "source": [
    "input_data = [random.randint(0,255) for _ in range (0, 1000)]\n",
    " \n",
    "print(len(input_data))\n",
    "print(input_data)"
   ]
  },
  {
   "cell_type": "code",
   "execution_count": 8,
   "metadata": {},
   "outputs": [
    {
     "name": "stdout",
     "output_type": "stream",
     "text": [
      "✔️ OK to continue!\n"
     ]
    }
   ],
   "source": [
    "#Simple test vectors - if you get the check-mark printed all OK.\n",
    "assert(len(input_data) == 1000)\n",
    "assert(max(input_data) == 0xFF) #Possibly not true for random variables (re-run if you get an error)\n",
    "assert(min(input_data) == 0x00) #Possibly not true for random variables (re-run if you get an error)\n",
    "print(\"✔️ OK to continue!\")"
   ]
  },
  {
   "cell_type": "markdown",
   "metadata": {},
   "source": [
    "Now, feed all those inputs through the `aes_secret` function. Because this is a secret function we are only going to observe a single bit of output (the 'leakage'). The following will perform the encryptions and mask off all but the lowest bit for you, and build a new array called `leaked_data` which contains just the 1 or 0 status of the lowest bit.\n",
    "\n",
    "### 2.2 Definition of `leaked_data`"
   ]
  },
  {
   "cell_type": "code",
   "execution_count": 9,
   "metadata": {},
   "outputs": [],
   "source": [
    "leaked_data = [(aes_secret(a) & 0x01) for a in input_data]"
   ]
  },
  {
   "cell_type": "markdown",
   "metadata": {},
   "source": [
    "If you run the following too cells, it will then print some of the data so you can see the sequence of 1 and 0."
   ]
  },
  {
   "cell_type": "code",
   "execution_count": 10,
   "metadata": {},
   "outputs": [
    {
     "name": "stdout",
     "output_type": "stream",
     "text": [
      "[0, 1, 1, 1, 1, 0, 1, 1, 0, 1, 0, 1, 1, 1, 1, 0, 1, 0, 1, 0, 0, 0, 0, 1, 0, 1, 0, 0, 1, 0, 0, 0, 0, 1, 1, 1, 1, 0, 1, 1, 0, 0, 1, 0, 1, 1, 1, 1, 0, 0, 0, 0, 0, 0, 1, 0, 0, 1, 0, 0, 0, 1, 0, 0, 1, 0, 0, 0, 0, 1, 0, 1, 1, 0, 1, 0, 1, 0, 1, 0, 1, 0, 0, 1, 0, 0, 1, 1, 0, 0, 0, 0, 1, 1, 0, 0, 1, 0, 0, 1, 0, 1, 1, 1, 0, 1, 0, 0, 0, 1, 1, 1, 1, 0, 0, 1, 1, 0, 1, 0, 1, 1, 1, 1, 1, 0, 0, 1, 1, 1, 0, 0, 1, 1, 0, 1, 0, 0, 1, 1, 1, 0, 0, 0, 1, 1, 0, 1, 1, 0, 1, 1, 0, 1, 0, 0, 0, 0, 1, 1, 1, 1, 1, 0, 1, 1, 0, 0, 1, 1, 1, 1, 0, 1, 1, 0, 1, 1, 1, 0, 1, 1, 1, 0, 1, 1, 0, 0, 1, 1, 0, 1, 1, 0, 0, 1, 0, 1, 0, 1, 1, 1, 0, 1, 1, 1, 1, 1, 0, 0, 0, 0, 1, 0, 1, 1, 1, 1, 0, 0, 1, 0, 1, 1, 1, 0, 0, 1, 0, 0, 0, 0, 1, 0, 1, 1, 0, 1, 0, 0, 0, 0, 1, 0, 1, 1, 1, 0, 1, 1, 1, 1, 0, 1, 0, 0, 0, 1, 1, 0, 0, 0, 1, 1, 1, 0, 1, 1, 1, 0, 0, 1, 1, 1, 1, 0, 1, 1, 1, 1, 1, 1, 1, 0, 0, 1, 1, 0, 0, 0, 0, 1, 1, 1, 1, 0, 0, 1, 0, 0, 0, 1, 0, 1, 1, 0, 0, 0, 0, 1, 0, 1, 1, 1, 0, 1, 0, 0, 1, 1, 0, 0, 1, 1, 1, 1, 0, 0, 0, 1, 0, 1, 0, 0, 1, 1, 0, 1, 1, 1, 0, 0, 1, 0, 0, 1, 0, 1, 1, 0, 1, 1, 1, 0, 0, 0, 0, 1, 1, 1, 1, 0, 1, 0, 1, 0, 0, 0, 0, 0, 1, 0, 0, 0, 1, 1, 1, 0, 1, 0, 0, 1, 0, 1, 0, 0, 0, 1, 0, 1, 0, 0, 0, 0, 0, 0, 0, 1, 0, 0, 1, 1, 1, 0, 0, 0, 1, 1, 1, 0, 0, 0, 1, 1, 1, 0, 0, 1, 1, 0, 1, 0, 0, 1, 1, 0, 1, 1, 0, 0, 1, 0, 0, 1, 1, 1, 1, 0, 0, 0, 0, 1, 1, 0, 1, 0, 1, 0, 1, 1, 1, 1, 1, 1, 0, 1, 1, 1, 1, 1, 1, 0, 0, 0, 0, 1, 0, 0, 1, 0, 1, 1, 1, 1, 0, 0, 0, 1, 0, 1, 0, 1, 0, 0, 1, 0, 0, 0, 0, 1, 1, 1, 1, 0, 0, 1, 0, 0, 0, 0, 0, 0, 1, 0, 1, 1, 1, 1, 1, 1, 0, 1, 0, 0, 1, 1, 1, 0, 0, 1, 0, 1, 1, 0, 0, 0, 1, 0, 0, 0, 1, 0, 0, 1, 0, 1, 1, 0, 0, 1, 1, 0, 0, 0, 0, 1, 1, 0, 1, 0, 1, 0, 0, 0, 0, 1, 0, 0, 1, 1, 0, 0, 1, 1, 0, 1, 1, 1, 0, 1, 0, 0, 0, 1, 1, 0, 0, 1, 1, 0, 0, 1, 0, 0, 1, 1, 0, 1, 1, 1, 1, 0, 0, 0, 1, 1, 1, 1, 1, 1, 0, 1, 0, 1, 1, 0, 1, 1, 1, 1, 1, 0, 0, 1, 0, 0, 1, 0, 0, 0, 0, 0, 1, 1, 1, 1, 0, 1, 0, 0, 1, 0, 0, 0, 1, 0, 0, 0, 0, 1, 0, 0, 0, 1, 0, 1, 0, 1, 1, 0, 1, 1, 0, 1, 0, 0, 1, 1, 0, 1, 0, 1, 0, 0, 1, 1, 1, 0, 0, 1, 1, 0, 1, 0, 1, 1, 1, 1, 0, 1, 1, 1, 0, 0, 1, 1, 0, 1, 1, 0, 0, 1, 1, 0, 1, 1, 1, 0, 1, 1, 0, 1, 0, 0, 1, 1, 1, 0, 1, 0, 0, 1, 1, 1, 1, 1, 0, 1, 0, 0, 0, 1, 1, 0, 0, 1, 1, 0, 0, 1, 0, 1, 0, 1, 1, 1, 0, 0, 0, 0, 0, 0, 1, 0, 0, 1, 0, 1, 0, 1, 0, 0, 1, 0, 1, 1, 1, 0, 0, 1, 0, 1, 0, 1, 1, 0, 0, 1, 1, 1, 1, 0, 0, 1, 0, 1, 0, 1, 0, 0, 0, 1, 1, 1, 1, 0, 1, 0, 1, 0, 1, 0, 0, 0, 0, 1, 1, 0, 0, 1, 1, 0, 0, 1, 0, 0, 1, 0, 1, 0, 0, 0, 0, 0, 1, 1, 1, 1, 1, 1, 0, 1, 0, 1, 0, 1, 0, 1, 0, 1, 1, 0, 0, 1, 1, 1, 1, 0, 0, 1, 1, 0, 1, 1, 0, 0, 1, 1, 1, 1, 0, 1, 0, 0, 0, 0, 0, 1, 1, 1, 1, 1, 1, 1, 1, 0, 0, 1, 0, 0, 0, 0, 0, 0, 1, 0, 1, 1, 0, 1, 0, 1, 1, 1, 1, 1, 0, 1, 1, 0, 0, 0, 1, 0, 0, 0, 0, 1, 1, 0, 0, 0, 0, 1, 1, 1, 1, 1, 0, 0, 0, 1, 0, 1, 0, 1, 1, 0, 1, 1, 1, 0, 1, 0, 1, 0, 0, 1, 0, 0, 1, 0, 1, 1, 0, 0, 1, 0, 1, 0, 0, 0, 0, 0, 0, 1, 0, 0, 1, 0, 0, 1, 0, 1, 1, 0, 1, 0, 1, 1, 1, 1, 1, 0, 0, 1, 1, 1, 0, 0, 0, 0, 0, 0, 0, 1, 0, 1, 1, 0, 0, 1, 1, 0, 1, 0, 1, 0, 1, 0, 1, 1, 1, 1, 0, 0, 1, 0, 1, 1]\n"
     ]
    }
   ],
   "source": [
    "print(leaked_data)"
   ]
  },
  {
   "cell_type": "markdown",
   "metadata": {},
   "source": [
    "above, it print the operation result (just for a single bit, the least significant bit) of (sbox[inputdata^key]) with a key = 0xEF"
   ]
  },
  {
   "cell_type": "markdown",
   "metadata": {},
   "source": [
    "You can also plot for example the patterns of 1's and 0's - this gets pretty squashed, so let's just look at a few hundred transitions:"
   ]
  },
  {
   "cell_type": "code",
   "execution_count": 11,
   "metadata": {},
   "outputs": [
    {
     "data": {
      "image/png": "[encoded data removed]",
      "text/plain": [
       "<Figure size 640x480 with 1 Axes>"
      ]
     },
     "metadata": {},
     "output_type": "display_data"
    }
   ],
   "source": [
    "import matplotlib.pylab as plt\n",
    "plt.plot(leaked_data[0:200])\n",
    "plt.show()"
   ]
  },
  {
   "cell_type": "markdown",
   "metadata": {},
   "source": [
    "Do you think we'll be able to get something useful out of this? Let's attack it to find out."
   ]
  },
  {
   "cell_type": "markdown",
   "metadata": {},
   "source": [
    "## 3. AES Guesser"
   ]
  },
  {
   "cell_type": "markdown",
   "metadata": {},
   "source": [
    "The attack is pretty simple. Let's just use our model of the device (we know what the encryption does after all, just not the secret key). And we'll feed (alimentar/abastecer) in the observed data for each possible value of the key. And then we can observe how many (if any) of the keys result in the observation and simulation matching each other. If the observation and simulation match, this suggets our simulation is running in the same \"setup\" as the implementation we are attacking!\n",
    "\n",
    "First, build a function to count the number of elements in a list that match between two lists (that is - same value of the element at the same list index). An easy way is to just iterate through the number of elements in the list and count the number that are the same. Fill in the following - there is already some bounds checking code to get you started.\n",
    "\n",
    "### 3.1 `num_same()`"
   ]
  },
  {
   "cell_type": "code",
   "execution_count": 12,
   "metadata": {},
   "outputs": [],
   "source": [
    "def num_same(a, b):\n",
    "    \n",
    "    if len(a) != len(b):\n",
    "        raise ValueError(\"Arrays must be same length!\")\n",
    "\n",
    "    if max(a) != max(b):\n",
    "        raise ValueError(\"Arrays max() should be the same!\")\n",
    "    \n",
    "    same = 0\n",
    "    for i in range(len(a)):\n",
    "        if a[i] == b[i]:\n",
    "            same += 1\n",
    "    \n",
    "    return same"
   ]
  },
  {
   "cell_type": "code",
   "execution_count": 13,
   "metadata": {},
   "outputs": [
    {
     "name": "stdout",
     "output_type": "stream",
     "text": [
      "✔️ OK to continue!\n"
     ]
    }
   ],
   "source": [
    "#Simple test vectors - if you get the check-mark printed all OK.\n",
    "assert(num_same([0,1,0,1,1,1,1,0], [0,1,0,1,1,1,1,0]) == 8)\n",
    "assert(num_same([1,1,1,0,0,0,0,0], [0,1,0,1,1,1,1,0]) == 2)\n",
    "assert(num_same([1, 0], [0, 1]) == 0)\n",
    "print(\"✔️ OK to continue!\")"
   ]
  },
  {
   "cell_type": "markdown",
   "metadata": {},
   "source": [
    "The next block is the most important. You'll need to \"apply\" the leakage function - that is for each known input byte, pass it through the `aes_internal(input_data, key_guess)` function. The value of `key_guess` is just integers in `[0x00, 0x01,...,0xFF]` - aka(also known as) every possible value of the key byte. We'll compare the number of matching bits between our observed (leaked) data bit and the hypothetical data bit.\n",
    "\n",
    "### 3.2 Guessing Loop"
   ]
  },
  {
   "cell_type": "code",
   "execution_count": 14,
   "metadata": {
    "scrolled": true
   },
   "outputs": [
    {
     "name": "stdout",
     "output_type": "stream",
     "text": [
      "Guess 00:  533 bits same\n",
      "Guess 01:  550 bits same\n",
      "Guess 02:  560 bits same\n",
      "Guess 03:  486 bits same\n",
      "Guess 04:  529 bits same\n",
      "Guess 05:  501 bits same\n",
      "Guess 06:  422 bits same\n",
      "Guess 07:  507 bits same\n",
      "Guess 08:  440 bits same\n",
      "Guess 09:  486 bits same\n",
      "Guess 0A:  479 bits same\n",
      "Guess 0B:  446 bits same\n",
      "Guess 0C:  505 bits same\n",
      "Guess 0D:  535 bits same\n",
      "Guess 0E:  454 bits same\n",
      "Guess 0F:  456 bits same\n",
      "Guess 10:  499 bits same\n",
      "Guess 11:  532 bits same\n",
      "Guess 12:  507 bits same\n",
      "Guess 13:  475 bits same\n",
      "Guess 14:  489 bits same\n",
      "Guess 15:  520 bits same\n",
      "Guess 16:  480 bits same\n",
      "Guess 17:  534 bits same\n",
      "Guess 18:  416 bits same\n",
      "Guess 19:  491 bits same\n",
      "Guess 1A:  488 bits same\n",
      "Guess 1B:  511 bits same\n",
      "Guess 1C:  503 bits same\n",
      "Guess 1D:  497 bits same\n",
      "Guess 1E:  472 bits same\n",
      "Guess 1F:  483 bits same\n",
      "Guess 20:  473 bits same\n",
      "Guess 21:  489 bits same\n",
      "Guess 22:  521 bits same\n",
      "Guess 23:  502 bits same\n",
      "Guess 24:  478 bits same\n",
      "Guess 25:  516 bits same\n",
      "Guess 26:  467 bits same\n",
      "Guess 27:  473 bits same\n",
      "Guess 28:  485 bits same\n",
      "Guess 29:  427 bits same\n",
      "Guess 2A:  455 bits same\n",
      "Guess 2B:  552 bits same\n",
      "Guess 2C:  524 bits same\n",
      "Guess 2D:  441 bits same\n",
      "Guess 2E:  454 bits same\n",
      "Guess 2F:  454 bits same\n",
      "Guess 30:  528 bits same\n",
      "Guess 31:  486 bits same\n",
      "Guess 32:  520 bits same\n",
      "Guess 33:  541 bits same\n",
      "Guess 34:  522 bits same\n",
      "Guess 35:  518 bits same\n",
      "Guess 36:  448 bits same\n",
      "Guess 37:  571 bits same\n",
      "Guess 38:  501 bits same\n",
      "Guess 39:  472 bits same\n",
      "Guess 3A:  542 bits same\n",
      "Guess 3B:  517 bits same\n",
      "Guess 3C:  536 bits same\n",
      "Guess 3D:  548 bits same\n",
      "Guess 3E:  456 bits same\n",
      "Guess 3F:  483 bits same\n",
      "Guess 40:  552 bits same\n",
      "Guess 41:  509 bits same\n",
      "Guess 42:  498 bits same\n",
      "Guess 43:  437 bits same\n",
      "Guess 44:  494 bits same\n",
      "Guess 45:  512 bits same\n",
      "Guess 46:  549 bits same\n",
      "Guess 47:  502 bits same\n",
      "Guess 48:  440 bits same\n",
      "Guess 49:  486 bits same\n",
      "Guess 4A:  508 bits same\n",
      "Guess 4B:  470 bits same\n",
      "Guess 4C:  452 bits same\n",
      "Guess 4D:  497 bits same\n",
      "Guess 4E:  524 bits same\n",
      "Guess 4F:  432 bits same\n",
      "Guess 50:  428 bits same\n",
      "Guess 51:  476 bits same\n",
      "Guess 52:  520 bits same\n",
      "Guess 53:  487 bits same\n",
      "Guess 54:  483 bits same\n",
      "Guess 55:  470 bits same\n",
      "Guess 56:  558 bits same\n",
      "Guess 57:  478 bits same\n",
      "Guess 58:  511 bits same\n",
      "Guess 59:  495 bits same\n",
      "Guess 5A:  521 bits same\n",
      "Guess 5B:  506 bits same\n",
      "Guess 5C:  521 bits same\n",
      "Guess 5D:  552 bits same\n",
      "Guess 5E:  502 bits same\n",
      "Guess 5F:  544 bits same\n",
      "Guess 60:  530 bits same\n",
      "Guess 61:  524 bits same\n",
      "Guess 62:  511 bits same\n",
      "Guess 63:  454 bits same\n",
      "Guess 64:  479 bits same\n",
      "Guess 65:  561 bits same\n",
      "Guess 66:  536 bits same\n",
      "Guess 67:  529 bits same\n",
      "Guess 68:  470 bits same\n",
      "Guess 69:  516 bits same\n",
      "Guess 6A:  526 bits same\n",
      "Guess 6B:  473 bits same\n",
      "Guess 6C:  577 bits same\n",
      "Guess 6D:  440 bits same\n",
      "Guess 6E:  475 bits same\n",
      "Guess 6F:  451 bits same\n",
      "Guess 70:  525 bits same\n",
      "Guess 71:  486 bits same\n",
      "Guess 72:  489 bits same\n",
      "Guess 73:  473 bits same\n",
      "Guess 74:  434 bits same\n",
      "Guess 75:  493 bits same\n",
      "Guess 76:  462 bits same\n",
      "Guess 77:  568 bits same\n",
      "Guess 78:  453 bits same\n",
      "Guess 79:  502 bits same\n",
      "Guess 7A:  483 bits same\n",
      "Guess 7B:  499 bits same\n",
      "Guess 7C:  523 bits same\n",
      "Guess 7D:  427 bits same\n",
      "Guess 7E:  526 bits same\n",
      "Guess 7F:  513 bits same\n",
      "Guess 80:  527 bits same\n",
      "Guess 81:  493 bits same\n",
      "Guess 82:  446 bits same\n",
      "Guess 83:  518 bits same\n",
      "Guess 84:  551 bits same\n",
      "Guess 85:  447 bits same\n",
      "Guess 86:  538 bits same\n",
      "Guess 87:  468 bits same\n",
      "Guess 88:  512 bits same\n",
      "Guess 89:  530 bits same\n",
      "Guess 8A:  433 bits same\n",
      "Guess 8B:  522 bits same\n",
      "Guess 8C:  491 bits same\n",
      "Guess 8D:  480 bits same\n",
      "Guess 8E:  521 bits same\n",
      "Guess 8F:  493 bits same\n",
      "Guess 90:  451 bits same\n",
      "Guess 91:  468 bits same\n",
      "Guess 92:  502 bits same\n",
      "Guess 93:  490 bits same\n",
      "Guess 94:  546 bits same\n",
      "Guess 95:  479 bits same\n",
      "Guess 96:  522 bits same\n",
      "Guess 97:  483 bits same\n",
      "Guess 98:  571 bits same\n",
      "Guess 99:  495 bits same\n",
      "Guess 9A:  504 bits same\n",
      "Guess 9B:  491 bits same\n",
      "Guess 9C:  529 bits same\n",
      "Guess 9D:  512 bits same\n",
      "Guess 9E:  549 bits same\n",
      "Guess 9F:  533 bits same\n",
      "Guess A0:  473 bits same\n",
      "Guess A1:  492 bits same\n",
      "Guess A2:  478 bits same\n",
      "Guess A3:  457 bits same\n",
      "Guess A4:  443 bits same\n",
      "Guess A5:  520 bits same\n",
      "Guess A6:  525 bits same\n",
      "Guess A7:  459 bits same\n",
      "Guess A8:  559 bits same\n",
      "Guess A9:  455 bits same\n",
      "Guess AA:  463 bits same\n",
      "Guess AB:  470 bits same\n",
      "Guess AC:  450 bits same\n",
      "Guess AD:  524 bits same\n",
      "Guess AE:  544 bits same\n",
      "Guess AF:  468 bits same\n",
      "Guess B0:  553 bits same\n",
      "Guess B1:  488 bits same\n",
      "Guess B2:  512 bits same\n",
      "Guess B3:  482 bits same\n",
      "Guess B4:  440 bits same\n",
      "Guess B5:  509 bits same\n",
      "Guess B6:  466 bits same\n",
      "Guess B7:  488 bits same\n",
      "Guess B8:  445 bits same\n",
      "Guess B9:  553 bits same\n",
      "Guess BA:  457 bits same\n",
      "Guess BB:  572 bits same\n",
      "Guess BC:  545 bits same\n",
      "Guess BD:  510 bits same\n",
      "Guess BE: 1000 bits same\n",
      "Guess BF:  475 bits same\n",
      "Guess C0:  547 bits same\n",
      "Guess C1:  442 bits same\n",
      "Guess C2:  513 bits same\n",
      "Guess C3:  539 bits same\n",
      "Guess C4:  505 bits same\n",
      "Guess C5:  494 bits same\n",
      "Guess C6:  411 bits same\n",
      "Guess C7:  495 bits same\n",
      "Guess C8:  527 bits same\n",
      "Guess C9:  505 bits same\n",
      "Guess CA:  440 bits same\n",
      "Guess CB:  509 bits same\n",
      "Guess CC:  456 bits same\n",
      "Guess CD:  494 bits same\n",
      "Guess CE:  479 bits same\n",
      "Guess CF:  488 bits same\n",
      "Guess D0:  546 bits same\n",
      "Guess D1:  503 bits same\n",
      "Guess D2:  469 bits same\n",
      "Guess D3:  546 bits same\n",
      "Guess D4:  497 bits same\n",
      "Guess D5:  556 bits same\n",
      "Guess D6:  520 bits same\n",
      "Guess D7:  458 bits same\n",
      "Guess D8:  543 bits same\n",
      "Guess D9:  461 bits same\n",
      "Guess DA:  486 bits same\n",
      "Guess DB:  566 bits same\n",
      "Guess DC:  542 bits same\n",
      "Guess DD:  458 bits same\n",
      "Guess DE:  516 bits same\n",
      "Guess DF:  526 bits same\n",
      "Guess E0:  446 bits same\n",
      "Guess E1:  516 bits same\n",
      "Guess E2:  549 bits same\n",
      "Guess E3:  502 bits same\n",
      "Guess E4:  485 bits same\n",
      "Guess E5:  532 bits same\n",
      "Guess E6:  495 bits same\n",
      "Guess E7:  501 bits same\n",
      "Guess E8:  529 bits same\n",
      "Guess E9:  569 bits same\n",
      "Guess EA:  492 bits same\n",
      "Guess EB:  527 bits same\n",
      "Guess EC:  482 bits same\n",
      "Guess ED:  464 bits same\n",
      "Guess EE:  478 bits same\n",
      "Guess EF:  461 bits same\n",
      "Guess F0:  463 bits same\n",
      "Guess F1:  495 bits same\n",
      "Guess F2:  543 bits same\n",
      "Guess F3:  506 bits same\n",
      "Guess F4:  477 bits same\n",
      "Guess F5:  546 bits same\n",
      "Guess F6:  460 bits same\n",
      "Guess F7:  551 bits same\n",
      "Guess F8:  508 bits same\n",
      "Guess F9:  546 bits same\n",
      "Guess FA:  533 bits same\n",
      "Guess FB:  452 bits same\n",
      "Guess FC:  529 bits same\n",
      "Guess FD:  504 bits same\n",
      "Guess FE:  482 bits same\n",
      "Guess FF:  462 bits same\n"
     ]
    }
   ],
   "source": [
    "for guess in range(0, 256):   \n",
    "    \n",
    "    #Get a hypothetical leakage list - use aes_internal(guess, input_byte) and mask off to only get value of lowest bit\n",
    "    hypothetical_leakage = [(aes_internal(guess, input_byte) & 0x01) for input_byte in input_data]\n",
    "    \n",
    "    #Use our function\n",
    "    same_count = num_same(hypothetical_leakage, leaked_data)   \n",
    "    \n",
    "    #Print for debug\n",
    "    print(\"Guess {:02X}: {:4d} bits same\".format(guess, same_count))"
   ]
  },
  {
   "cell_type": "markdown",
   "metadata": {},
   "source": [
    "If your key guess is wrong, about half of the guesses should be wrong. Looking through the list, you'll see that most of the \"bits same\" numbers will be around 500. But scroll down to the correct key value (should be `0xEF` if you haven't changed it earlier). With any luck, that number should be fully correct - 1000 matching bits. This is only possible if the internal \"secret key\" byte matches the observed key."
   ]
  },
  {
   "cell_type": "markdown",
   "metadata": {},
   "source": [
    "### 3.3 `argsort` background\n",
    "\n",
    "Now a handy thing to do will be to sort based on the values by number of correct bits so we don't have to look through that list. An easy way to do this is with `numpy.argsort` - this returns the indicies that would sort the list. To start small, take the following for example:"
   ]
  },
  {
   "cell_type": "code",
   "execution_count": 15,
   "metadata": {},
   "outputs": [
    {
     "data": {
      "text/plain": [
       "array([0, 3, 4, 1, 2], dtype=int64)"
      ]
     },
     "execution_count": 15,
     "metadata": {},
     "output_type": "execute_result"
    }
   ],
   "source": [
    "import numpy as np\n",
    "\n",
    "count_list = [2, 7, 24, 4, 5]\n",
    "\n",
    "np.argsort(count_list)"
   ]
  },
  {
   "cell_type": "markdown",
   "metadata": {},
   "source": [
    "This should return `[0, 3, 4, 1, 2]` - you can cast the above to `list()` type if you want to get rid of the `array()` type around it.\n",
    "\n",
    "Inspecting the above, notice that this is the position of each from lowest to highest. We can reverse this to give us a highest to lowest sort instead:"
   ]
  },
  {
   "cell_type": "code",
   "execution_count": 16,
   "metadata": {},
   "outputs": [
    {
     "data": {
      "text/plain": [
       "array([2, 1, 4, 3, 0], dtype=int64)"
      ]
     },
     "execution_count": 16,
     "metadata": {},
     "output_type": "execute_result"
    }
   ],
   "source": [
    "import numpy as np\n",
    "\n",
    "count_list = [2, 7, 24, 4, 5]\n",
    "\n",
    "teste = np.argsort(count_list)[::-1]\n",
    "teste"
   ]
  },
  {
   "cell_type": "markdown",
   "metadata": {},
   "source": [
    "Taking your previous code, simply make a new list which contains the number of elements which are the same, where the list index is the *key guess*. As a rough outline, see the following (you'll need to add back in your hypothetical code):\n",
    "\n",
    "### 3.4 Guessing loop with sort"
   ]
  },
  {
   "cell_type": "code",
   "execution_count": 17,
   "metadata": {},
   "outputs": [
    {
     "name": "stdout",
     "output_type": "stream",
     "text": [
      "Key Guess BE = 1000 matches\n",
      "Key Guess 6C = 0577 matches\n",
      "Key Guess BB = 0572 matches\n",
      "Key Guess 37 = 0571 matches\n",
      "Key Guess 98 = 0571 matches\n"
     ]
    }
   ],
   "source": [
    "import numpy as np\n",
    "\n",
    "guess_list = [0] * 256\n",
    "\n",
    "for guess in range(0, 256):   \n",
    "    \n",
    "    hypothetical_leakage = [(aes_internal(guess, a) & 0x01) for a in input_data]\n",
    "    \n",
    "    #Use our function\n",
    "    same_count = num_same(hypothetical_leakage, leaked_data)\n",
    "    \n",
    "    #Track the number of correct bits\n",
    "    guess_list[guess] = same_count\n",
    "    # print(\"guess\", guess, \"guess_list[guess] = \", guess_list[guess] )\n",
    "\n",
    "# Use np.argsort to generate a list of indicies from low to high, then [::-1] to reverse the list to get high to low.\n",
    "# We use the argsort function for have the indices that sort array elements in ascending value order:\n",
    "# print(\"np.argsort(guess_list)\", np.argsort(guess_list))\n",
    "\n",
    "# We take the reverse order, because we want the highest value first\n",
    "# print(\"np.argsort(guess_list)[::-1]\", np.argsort(guess_list)[::-1])\n",
    "sorted_list = np.argsort(guess_list)[::-1]\n",
    "\n",
    "#Print top 5 only\n",
    "for guess in sorted_list[0:5]:\n",
    "        print(\"Key Guess {:02X} = {:04d} matches\".format(guess, guess_list[guess]))"
   ]
  },
  {
   "cell_type": "markdown",
   "metadata": {},
   "source": [
    "In this case we know that bit '0' was the leakage. What if we didn't know that? Imagine putting our needle down onto the internal bus, but we aren't sure what bit we touched.\n",
    "\n",
    "Luckily we can easily test that. To do so, we'll need to adjust our leakage function to take in a bit number that is leaking. First, define a function which returns the value of a bit being 1 or 0:\n",
    "\n",
    "### 3.5 `get_bit()`"
   ]
  },
  {
   "cell_type": "code",
   "execution_count": 18,
   "metadata": {},
   "outputs": [],
   "source": [
    "def get_bit(data, bit):\n",
    "    if data & (1<<bit):\n",
    "        return 1\n",
    "    else:\n",
    "        return 0"
   ]
  },
  {
   "cell_type": "code",
   "execution_count": 19,
   "metadata": {},
   "outputs": [
    {
     "name": "stdout",
     "output_type": "stream",
     "text": [
      "✔️ OK to continue!\n"
     ]
    }
   ],
   "source": [
    "assert(get_bit(0xAA, 7) == 1)\n",
    "assert(get_bit(0xAA, 0) == 0)\n",
    "assert(get_bit(0x00, 7) == 0)\n",
    "print(\"✔️ OK to continue!\")"
   ]
  },
  {
   "cell_type": "markdown",
   "metadata": {},
   "source": [
    "Now let's make a slightly fancier leakage function with it:"
   ]
  },
  {
   "cell_type": "code",
   "execution_count": 20,
   "metadata": {},
   "outputs": [],
   "source": [
    "def aes_leakage_guess(keyguess, inputdata, bit):\n",
    "    return get_bit(aes_internal(keyguess, inputdata), bit)"
   ]
  },
  {
   "cell_type": "code",
   "execution_count": 21,
   "metadata": {},
   "outputs": [
    {
     "name": "stdout",
     "output_type": "stream",
     "text": [
      "✔️ OK to continue!\n"
     ]
    }
   ],
   "source": [
    "assert(aes_leakage_guess(0xAB, 0x22, 4) == 0)\n",
    "assert(aes_leakage_guess(0xAB, 0x22, 3) == 0)\n",
    "assert(aes_leakage_guess(0xAB, 0x22, 2) == 1)\n",
    "assert(aes_leakage_guess(0xAB, 0x22, 1) == 1)\n",
    "assert(aes_leakage_guess(0xAB, 0x22, 0) == 1)\n",
    "print(\"✔️ OK to continue!\")"
   ]
  },
  {
   "cell_type": "markdown",
   "metadata": {},
   "source": [
    "Por fim, finalize esse loop adicionando sua função de vazamento a ele. A execução do loop deve imprimir os resultados para cada opção de bit - espero que você veja que apenas o bit correspondente mostra o número total de correspondências. Se você quiser tentar um bit com vazamento diferente, precisará voltar à observação secreta real para fazer o vazamento acontecer a partir de um bit diferente. Mas você pode ver que o código a seguir não faz suposições sobre o 'bit 0' ser o que está vazando - ele funcionará com qualquer outro vazamento agora."
   ]
  },
  {
   "cell_type": "markdown",
   "metadata": {},
   "source": [
    "Finally, finish off this loop by adding your leakage function into it. Running the loop should print results for each bit option - hopefully you see that only the matching bit shows the full number of matches. If you want to try a different leaky bit, you'll then need to go back up to the actual secret observation to make the leak happen from a different bit. But you can see the following code makes no assumptions about 'bit 0' being the leaky one - it will work with any other bit leaking now.\n",
    "\n",
    "### 3.6 Bitwise Guessing Loop"
   ]
  },
  {
   "cell_type": "code",
   "execution_count": 22,
   "metadata": {},
   "outputs": [
    {
     "name": "stdout",
     "output_type": "stream",
     "text": [
      "Checking bit 0\n",
      "Key Guess BE = 1000 matches\n",
      "Key Guess 6C = 0577 matches\n",
      "Key Guess BB = 0572 matches\n",
      "Key Guess 37 = 0571 matches\n",
      "Key Guess 98 = 0571 matches\n",
      "Checking bit 1\n",
      "Key Guess DA = 0581 matches\n",
      "Key Guess A5 = 0574 matches\n",
      "Key Guess 66 = 0573 matches\n",
      "Key Guess 51 = 0573 matches\n",
      "Key Guess C7 = 0568 matches\n",
      "Checking bit 2\n",
      "Key Guess 36 = 0583 matches\n",
      "Key Guess C6 = 0582 matches\n",
      "Key Guess 48 = 0574 matches\n",
      "Key Guess 6A = 0573 matches\n",
      "Key Guess 72 = 0569 matches\n",
      "Checking bit 3\n",
      "Key Guess DB = 0598 matches\n",
      "Key Guess F9 = 0578 matches\n",
      "Key Guess 52 = 0577 matches\n",
      "Key Guess 74 = 0570 matches\n",
      "Key Guess 01 = 0570 matches\n",
      "Checking bit 4\n",
      "Key Guess EE = 0587 matches\n",
      "Key Guess 52 = 0585 matches\n",
      "Key Guess 33 = 0577 matches\n",
      "Key Guess F7 = 0577 matches\n",
      "Key Guess A5 = 0570 matches\n",
      "Checking bit 5\n",
      "Key Guess CF = 0580 matches\n",
      "Key Guess 42 = 0573 matches\n",
      "Key Guess 59 = 0570 matches\n",
      "Key Guess C1 = 0563 matches\n",
      "Key Guess 97 = 0563 matches\n",
      "Checking bit 6\n",
      "Key Guess B3 = 0580 matches\n",
      "Key Guess 67 = 0576 matches\n",
      "Key Guess BF = 0574 matches\n",
      "Key Guess 02 = 0570 matches\n",
      "Key Guess C9 = 0566 matches\n",
      "Checking bit 7\n",
      "Key Guess C7 = 0579 matches\n",
      "Key Guess AA = 0579 matches\n",
      "Key Guess 80 = 0578 matches\n",
      "Key Guess 7E = 0577 matches\n",
      "Key Guess 5F = 0573 matches\n"
     ]
    }
   ],
   "source": [
    "for bit_guess in range(0, 8):\n",
    "    guess_list = [0] * 256\n",
    "    print(\"Checking bit {:d}\".format(bit_guess))\n",
    "    for guess in range(0, 256):\n",
    "\n",
    "        #Get a hypothetical leakage for guessed bit (ensure returns 1/0 only)\n",
    "        #Use bit_guess as the bit number, guess as the key guess, and data from input_data\n",
    "        hypothetical_leakage = [aes_leakage_guess(guess, input_byte, bit_guess) for input_byte in input_data]\n",
    "        \n",
    "#Get a hypothetical leakage list - use aes_internal(guess, input_byte) and mask off to only get value of lowest bit\n",
    "\n",
    "        #Use our function\n",
    "        same_count = num_same(hypothetical_leakage, leaked_data)   \n",
    "\n",
    "        #Track the number of correct bits\n",
    "        guess_list[guess] = same_count\n",
    "\n",
    "    sorted_list = np.argsort(guess_list)[::-1]\n",
    "\n",
    "    #Print top 5 only\n",
    "    for guess in sorted_list[0:5]:\n",
    "            print(\"Key Guess {:02X} = {:04d} matches\".format(guess, guess_list[guess]))"
   ]
  },
  {
   "cell_type": "markdown",
   "metadata": {},
   "source": [
    "🥳🥳🥳🥳🥳🥳🥳🥳🥳🥳🥳🥳🥳\n",
    "Congrats - you did it!!!!\n",
    "\n",
    "This all assumed you get some way to observe the value of the bit - in our next act, we'll see how power analysis gives us the ability to observe a given bit."
   ]
  },
  {
   "cell_type": "markdown",
   "metadata": {},
   "source": [
    "## 4. Bonus: Adding Noise and Plotting Success Rates\n",
    "\n",
    "Are you not satisified by your attack? Why not see what happens when you add some noise into the equation?\n",
    "\n",
    "Remember this simple leakage from earlier:\n",
    "\n",
    "```python\n",
    "    leaked_data = [(aes_secret(a) & 0x01) for a in input_data]\n",
    "```\n",
    "\n",
    "This relied on another function `aes_secret()`, which we could define as such to return incorrect responses sometimes:\n",
    "\n",
    "```python\n",
    "    import random\n",
    "    def aes_secret(inputdata):\n",
    "        secret_key = 0xEF\n",
    "        correct = aes_internal(secret_key, inputdata)\n",
    "        \n",
    "        if random.randint(0, 100) < 10:\n",
    "            return correct\n",
    "        else\n",
    "            return 0 \n",
    "        \n",
    "```\n",
    "\n",
    "What happens now? While it should take more guesses to get the correct byte out. In fact, we could even make a plot of the percentage of returned wrong results, and how many observations it took to get the correct answer.\n",
    "\n",
    "The end result should look something like this:\n",
    "\n",
    "<img src=\"img/traces_wrong.png\" alt=\"Noisy Observations\" width=\"450\"/>\n",
    "\n",
    "Give it a try. If you get stuck of course you can check out the solution lab too - this one is a little trickier, we really threw you in the deep end here. Don't feel bad looking for a ⛑️.\n",
    "\n",
    "You'll notice the data is pretty noisy too. You might want to average several attempts. And you can also set the leakage to be a tiny amount of information only - it will require more observations to recover the data, but the data is fundamentally there still."
   ]
  },
  {
   "cell_type": "markdown",
   "metadata": {},
   "source": [
    "---\n",
    "<small>NO-FUN DISCLAIMER: This material is Copyright (C) NewAE Technology Inc., 2015-2020. ChipWhisperer is a trademark of NewAE Technology Inc., claimed in all jurisdictions, and registered in at least the United States of America, European Union, and Peoples Republic of China.\n",
    "\n",
    "Tutorials derived from our open-source work must be released under the associated open-source license, and notice of the source must be *clearly displayed*. Only original copyright holders may license or authorize other distribution - while NewAE Technology Inc. holds the copyright for many tutorials, the github repository includes community contributions which we cannot license under special terms and **must** be maintained as an open-source release. Please contact us for special permissions (where possible).\n",
    "\n",
    "THE SOFTWARE IS PROVIDED \"AS IS\", WITHOUT WARRANTY OF ANY KIND, EXPRESS OR IMPLIED, INCLUDING BUT NOT LIMITED TO THE WARRANTIES OF MERCHANTABILITY, FITNESS FOR A PARTICULAR PURPOSE AND NONINFRINGEMENT. IN NO EVENT SHALL THE AUTHORS OR COPYRIGHT HOLDERS BE LIABLE FOR ANY CLAIM, DAMAGES OR OTHER LIABILITY, WHETHER IN AN ACTION OF CONTRACT, TORT OR OTHERWISE, ARISING FROM, OUT OF OR IN CONNECTION WITH THE SOFTWARE OR THE USE OR OTHER DEALINGS IN THE SOFTWARE.</small>"
   ]
  }
 ],
 "metadata": {
  "kernelspec": {
   "display_name": "Python 3 (ipykernel)",
   "language": "python",
   "name": "python3"
  },
  "language_info": {
   "codemirror_mode": {
    "name": "ipython",
    "version": 3
   },
   "file_extension": ".py",
   "mimetype": "text/x-python",
   "name": "python",
   "nbconvert_exporter": "python",
   "pygments_lexer": "ipython3",
   "version": "3.10.11"
  }
 },
 "nbformat": 4,
 "nbformat_minor": 2
}
