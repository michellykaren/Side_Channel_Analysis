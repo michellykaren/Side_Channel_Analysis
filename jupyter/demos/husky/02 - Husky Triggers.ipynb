{
 "cells": [
  {
   "cell_type": "markdown",
   "metadata": {},
   "source": [
    "# CW-Husky Triggers\n",
    "\n",
    "This notebook shows how to use Husky's different trigger modules."
   ]
  },
  {
   "cell_type": "code",
   "execution_count": null,
   "metadata": {},
   "outputs": [],
   "source": [
    "SCOPE=\"OPENADC\"\n",
    "PLATFORM=\"CWHUSKY\""
   ]
  },
  {
   "cell_type": "code",
   "execution_count": null,
   "metadata": {},
   "outputs": [],
   "source": [
    "import chipwhisperer as cw\n",
    "%run \"../../Setup_Scripts/Setup_Generic.ipynb\""
   ]
  },
  {
   "cell_type": "markdown",
   "metadata": {},
   "source": [
    "This notebook should run on all simpleserial targets, but ADC level triggering works better on this target firmware, on our STM32 target:"
   ]
  },
  {
   "cell_type": "code",
   "execution_count": null,
   "metadata": {},
   "outputs": [],
   "source": [
    "fw_path = '../../../hardware/victims/firmware/simpleserial-aes/simpleserial-aes-CW308_STM32F3.hex'\n",
    "prog = cw.programmers.STM32FProgrammer\n",
    "cw.program_target(scope, prog, fw_path)"
   ]
  },
  {
   "cell_type": "code",
   "execution_count": null,
   "metadata": {},
   "outputs": [],
   "source": [
    "reset_target(scope)"
   ]
  },
  {
   "cell_type": "markdown",
   "metadata": {},
   "source": [
    "## 1. UART Triggering\n",
    "\n",
    "It's possible to trigger on the UART data that is sent to or received from the target."
   ]
  },
  {
   "cell_type": "code",
   "execution_count": null,
   "metadata": {},
   "outputs": [],
   "source": [
    "scope.trigger.module = 'UART'\n",
    "scope.UARTTrigger.enabled = True\n",
    "scope.UARTTrigger.baud = 38400\n",
    "scope.gain.db = 12"
   ]
  },
  {
   "cell_type": "markdown",
   "metadata": {},
   "source": [
    "We set up two matching rules: rule 0 matches the plaintext that we'll send to the target on tio2, and rule 1 matches the response that the target will send back on tio1. Then we demonstrate triggering on each.\n",
    "\n",
    "The match patterns can be up to 8 bytes long. There is a bit-wise mask parameter which defaults to all ones. Up to 8 rules can be specified and selectively enabled."
   ]
  },
  {
   "cell_type": "code",
   "execution_count": null,
   "metadata": {},
   "outputs": [],
   "source": [
    "scope.UARTTrigger.set_pattern_match(0, 'p000000') # match 'p'... that we send\n",
    "scope.UARTTrigger.set_pattern_match(1, 'r7DF7') # match 'r'... that we receive"
   ]
  },
  {
   "cell_type": "markdown",
   "metadata": {},
   "source": [
    "Let's first trigger on the plaintext command that's sent to the target on tio2.\n",
    "\n",
    "The UART trigger module can use any trigger input that you can specify to the normal trigger module.\n",
    "\n",
    "If you have an oscilloscope or logic analyzer, probe tio2, tio1, and Trigger/Glitch Out MCX. The MCX is the internal ADC capture trigger. You use this to confirm that the trigger event occurs when expected.\n",
    "\n",
    "Note that shorter patterns do not give earlier triggers: when a pattern is specified as fewer than 8 bytes (as we did above), the UART pattern match logic appends \"don't care\" bytes to make the pattern 8 bytes long (via the mask feature)."
   ]
  },
  {
   "cell_type": "code",
   "execution_count": null,
   "metadata": {},
   "outputs": [],
   "source": [
    "scope.trigger.triggers = 'tio2'\n",
    "scope.UARTTrigger.trigger_source = 0\n",
    "scope.io.glitch_trig_mcx = 'trigger'"
   ]
  },
  {
   "cell_type": "code",
   "execution_count": null,
   "metadata": {},
   "outputs": [],
   "source": [
    "trace = cw.capture_trace(scope, target, bytearray(16), bytearray(16))"
   ]
  },
  {
   "cell_type": "markdown",
   "metadata": {},
   "source": [
    "The UARTTrigger module records the actual UART data that caused the last trigger (useful in the case of wildcards), and a counter for each time a rule matched and triggered:"
   ]
  },
  {
   "cell_type": "code",
   "execution_count": null,
   "metadata": {},
   "outputs": [],
   "source": [
    "scope.UARTTrigger.matched_pattern_data"
   ]
  },
  {
   "cell_type": "code",
   "execution_count": null,
   "metadata": {},
   "outputs": [],
   "source": [
    "scope.UARTTrigger.matched_pattern_counts"
   ]
  },
  {
   "cell_type": "markdown",
   "metadata": {},
   "source": [
    "Now let's switch over to triggering on the response on tio1. Again, we must specify on which pin the trigger module should use, and which rule should cause a trigger:"
   ]
  },
  {
   "cell_type": "code",
   "execution_count": null,
   "metadata": {},
   "outputs": [],
   "source": [
    "scope.trigger.triggers = 'tio1'\n",
    "scope.UARTTrigger.trigger_source = 1"
   ]
  },
  {
   "cell_type": "code",
   "execution_count": null,
   "metadata": {},
   "outputs": [],
   "source": [
    "trace = cw.capture_trace(scope, target, bytearray(16), bytearray(16))"
   ]
  },
  {
   "cell_type": "code",
   "execution_count": null,
   "metadata": {},
   "outputs": [],
   "source": [
    "scope.UARTTrigger.matched_pattern_data"
   ]
  },
  {
   "cell_type": "code",
   "execution_count": null,
   "metadata": {},
   "outputs": [],
   "source": [
    "scope.UARTTrigger.matched_pattern_counts"
   ]
  },
  {
   "cell_type": "markdown",
   "metadata": {},
   "source": [
    "`scope.UARTTrigger` actually runs on the same FPGA logic as `scope.trace` aka TraceWhisperer (the ARM trace sniffer), because ARM trace in SWO mode is just UART.\n",
    "\n",
    "This means it's also possible to record all the UART data. Since the data is time-stamped (exactly like it is in TraceWhisperer), how much data can be recorded depends on its nature. There is space for up to 8192 bytes, but periods of inactivity will require some of that capacity to be used for additional timestamp storage.\n",
    "\n",
    "(If you're interested in using the timestamp data, the [TraceWhisperer.ipynb](https://github.com/newaetech/DesignStartTrace/blob/master/jupyter/TraceWhisperer.ipynb) notebook will show you how.)\n",
    "\n",
    "By triggering on `tio1 and tio2`, we'll capture both the Tx and Rx traffic:"
   ]
  },
  {
   "cell_type": "code",
   "execution_count": null,
   "metadata": {},
   "outputs": [],
   "source": [
    "scope.trigger.triggers = 'tio1 and tio2'\n",
    "scope.UARTTrigger.trigger_source = 0\n",
    "scope.UARTTrigger.rules_enabled = [0]"
   ]
  },
  {
   "cell_type": "code",
   "execution_count": null,
   "metadata": {},
   "outputs": [],
   "source": [
    "scope.trace.trace_mode = 'swo'\n",
    "scope.trace.capture.mode = 'count_writes'\n",
    "scope.trace.capture.count = 0"
   ]
  },
  {
   "cell_type": "code",
   "execution_count": null,
   "metadata": {},
   "outputs": [],
   "source": [
    "trace = cw.capture_trace(scope, target, bytearray(16), bytearray(16))"
   ]
  },
  {
   "cell_type": "code",
   "execution_count": null,
   "metadata": {},
   "outputs": [],
   "source": [
    "raw = scope.trace.read_capture_data()"
   ]
  },
  {
   "cell_type": "code",
   "execution_count": null,
   "metadata": {},
   "outputs": [],
   "source": [
    "len(raw)"
   ]
  },
  {
   "cell_type": "markdown",
   "metadata": {},
   "source": [
    "`raw` is time-stamped raw UART data. There's a convenience method to decode it to ASCII:"
   ]
  },
  {
   "cell_type": "code",
   "execution_count": null,
   "metadata": {},
   "outputs": [],
   "source": [
    "ascii = scope.UARTTrigger.uart_data(raw)\n",
    "for b in ascii:\n",
    "    print(b, end='')"
   ]
  },
  {
   "cell_type": "markdown",
   "metadata": {},
   "source": [
    "The UART trigger module supports issuing multiple triggers: *up to* `scope.UARTTrigger.capture.max_triggers` can be issued. Once this limit is reached, no more triggers are issued until the scope is re-armed.\n",
    "\n",
    "Finally, while these examples have used the usual tio1 and tio2 lines as inputs, you can use anything input that `scope.trigger.triggers` supports."
   ]
  },
  {
   "cell_type": "markdown",
   "metadata": {},
   "source": [
    "## 2. ADC level triggering\n",
    "\n",
    "This one is a lot more simple: it simply triggers when ADC samples exceed a defined level.\n",
    "\n",
    "This can be useful when the target is idle and \"quiet\" outside of the target operation.\n",
    "\n",
    "We start by getting another power trace from \"normal\" triggering, and with proper gain and ADC settings, so we can observe how high the power samples go."
   ]
  },
  {
   "cell_type": "code",
   "execution_count": null,
   "metadata": {},
   "outputs": [],
   "source": [
    "scope.gain.db = 12\n",
    "scope.adc.samples = 50000\n",
    "scope.adc.presamples = 10000\n",
    "scope.trigger.module = 'basic'\n",
    "scope.trigger.triggers = 'tio4'"
   ]
  },
  {
   "cell_type": "code",
   "execution_count": null,
   "metadata": {},
   "outputs": [],
   "source": [
    "trace = cw.capture_trace(scope, target, bytearray(16), bytearray(16))"
   ]
  },
  {
   "cell_type": "code",
   "execution_count": null,
   "metadata": {},
   "outputs": [],
   "source": [
    "from bokeh.plotting import figure, show\n",
    "from bokeh.resources import INLINE\n",
    "from bokeh.io import output_notebook\n",
    "from bokeh.models import Span\n",
    "import numpy as np\n",
    "output_notebook(INLINE)\n",
    "\n",
    "o = figure(plot_width=1200)\n",
    "\n",
    "xrange = range(len(trace.wave))\n",
    "O = o.line(xrange, trace.wave)"
   ]
  },
  {
   "cell_type": "code",
   "execution_count": null,
   "metadata": {},
   "outputs": [],
   "source": [
    "show(o)"
   ]
  },
  {
   "cell_type": "markdown",
   "metadata": {},
   "source": [
    "If you're using the simpleserial-aes firmware on the STM32 target, you should see a large negative spike shortly after the start of the capture, which should be a good marker for level-based triggering:"
   ]
  },
  {
   "cell_type": "code",
   "execution_count": null,
   "metadata": {},
   "outputs": [],
   "source": [
    "scope.trigger.module = 'ADC'\n",
    "scope.trigger.level = min(trace.wave)*0.95"
   ]
  },
  {
   "cell_type": "code",
   "execution_count": null,
   "metadata": {},
   "outputs": [],
   "source": [
    "scope.adc.presamples = int(np.where(trace.wave == min(trace.wave[:20000]))[0][0])+ 5"
   ]
  },
  {
   "cell_type": "code",
   "execution_count": null,
   "metadata": {},
   "outputs": [],
   "source": [
    "adc_triggered_trace = cw.capture_trace(scope, target, bytearray(16), bytearray(16))"
   ]
  },
  {
   "cell_type": "code",
   "execution_count": null,
   "metadata": {},
   "outputs": [],
   "source": [
    "o = figure(plot_width=1200)\n",
    "\n",
    "O1 = o.line(xrange, trace.wave, line_color='black')\n",
    "O2 = o.line(xrange, adc_triggered_trace.wave, line_color='blue')\n",
    "\n",
    "o.renderers.extend([Span(location=scope.trigger.level, dimension='width', line_color='green', line_width=2, line_dash='dashed')])"
   ]
  },
  {
   "cell_type": "code",
   "execution_count": null,
   "metadata": {},
   "outputs": [],
   "source": [
    "show(o)"
   ]
  },
  {
   "cell_type": "markdown",
   "metadata": {},
   "source": [
    "The two traces should be coincident or very nearly so.\n",
    "\n",
    "With ADC-level triggering, a single trigger is issued: after the first trigger, no further triggers are issued, even if ADC samples exceed the level threshold, until the scope is re-armed."
   ]
  },
  {
   "cell_type": "markdown",
   "metadata": {},
   "source": [
    "# 3. SAD Triggering\n",
    "\n",
    "Sum-of-Absolute Differences triggering works much like it does on CW-Pro. The API to use it is slightly different, because the underlying FPGA hardware for it is different.\n",
    "\n",
    "First, a reference trace must be established."
   ]
  },
  {
   "cell_type": "code",
   "execution_count": null,
   "metadata": {},
   "outputs": [],
   "source": [
    "scope.trigger.module = 'SAD'\n",
    "scope.SAD.reference = trace.wave[10000:]"
   ]
  },
  {
   "cell_type": "markdown",
   "metadata": {},
   "source": [
    "Then the SAD threshold must be established. Due to space constraints on Husky, and to enable the SAD logic to run at up to 200 MS/s, only 8 bits of each sample are used in the SAD computation.\n",
    "\n",
    "This works whether `scope.adc.bits_per_sample` is 8 or 12.\n",
    "\n",
    "A SAD trigger will be generated if the sum of absolute difference between the 8 most significant bits for the 32 bytes of the SAD reference and the incoming live ADC samples does not exceed `scope.SAD.threshold`.\n",
    "\n",
    "Values between 50 and 100 usually work well, assuming good use of the ADC dynamic range.\n",
    "\n",
    "Since CW-Pro uses 128 samples at 10 bits per sample, if you're porting SAD settings from CW-Pro to Husky, reduce the threshold by a factor of 16.\n",
    "\n",
    "Unlike CW-Pro, there is no need to \"start\" the SAD module."
   ]
  },
  {
   "cell_type": "code",
   "execution_count": null,
   "metadata": {},
   "outputs": [],
   "source": [
    "scope.SAD.threshold = 60"
   ]
  },
  {
   "cell_type": "markdown",
   "metadata": {},
   "source": [
    "In order to perfectly line up the SAD and reference traces, we increase `scope.adc.presamples` by 40 (that's 32 for the 32 samples of the reference waveform, plus 8 for the extra latency through the SAD logic)."
   ]
  },
  {
   "cell_type": "code",
   "execution_count": null,
   "metadata": {},
   "outputs": [],
   "source": [
    "scope.adc.presamples = 10040"
   ]
  },
  {
   "cell_type": "code",
   "execution_count": null,
   "metadata": {},
   "outputs": [],
   "source": [
    "sad_triggered_trace = cw.capture_trace(scope, target, bytearray(16), bytearray(16))"
   ]
  },
  {
   "cell_type": "code",
   "execution_count": null,
   "metadata": {},
   "outputs": [],
   "source": [
    "o = figure(plot_width=1200)\n",
    "O1 = o.line(xrange, trace.wave, line_color='black')\n",
    "O2 = o.line(xrange, sad_triggered_trace.wave, line_color='blue')"
   ]
  },
  {
   "cell_type": "code",
   "execution_count": null,
   "metadata": {},
   "outputs": [],
   "source": [
    "show(o)"
   ]
  },
  {
   "cell_type": "markdown",
   "metadata": {},
   "source": [
    "The two waveforms should line up perfectly.\n",
    "\n",
    "If `scope.SAD.threshold` is set too aggressively, captures may sometimes pass and sometimes fail.\n",
    "\n",
    "The SAD trigger module supports issuing multiple triggers: if `scope.SAD.multiple_triggers` is set, then once armed, a trigger will be issued whenever the SAD threshold is met.\n",
    "\n",
    "If `scope.SAD.multiple_triggers` is not set, then no triggers are issued after the first one, until the scope is re-armed."
   ]
  },
  {
   "cell_type": "code",
   "execution_count": null,
   "metadata": {},
   "outputs": [],
   "source": [
    "scope.SAD.multiple_triggers"
   ]
  },
  {
   "cell_type": "markdown",
   "metadata": {},
   "source": [
    "# 4. TraceWhisperer\n",
    "\n",
    "Triggering from traces is covered in a separate notebook: [TraceWhisperer.ipynb](https://github.com/newaetech/DesignStartTrace/blob/master/jupyter/TraceWhisperer.ipynb)."
   ]
  },
  {
   "cell_type": "markdown",
   "metadata": {},
   "source": [
    "# 5. Edge Count Triggering\n",
    "\n",
    "This counts rising and falling edges of an input signal and triggers after a specified number of edges.\n",
    "\n",
    "This can be very useful when you want to trigger from some protocol that Husky can't decode.\n",
    "\n",
    "Here we'll demonstrate with UART because it's what we have with our targets, but it can be used for much more than that.\n",
    "\n",
    "The input signal to the edge counter can be anything that `scope.trigger.triggers` supports (which, in addition to what you could use on CW-Lite/Pro, includes the USERIO data pins)."
   ]
  },
  {
   "cell_type": "code",
   "execution_count": null,
   "metadata": {},
   "outputs": [],
   "source": [
    "scope.trigger.module = 'edge_counter'\n",
    "scope.trigger.triggers = 'tio1'\n",
    "#scope.trigger.triggers = 'tio2'\n",
    "scope.trigger.edges = 3"
   ]
  },
  {
   "cell_type": "markdown",
   "metadata": {},
   "source": [
    "We'll use Husky's logic analyzer to visualize the generated trigger. The trigger is a narrow single-cycle pulse of the ADC sampling clock, so we must sample fairly fast, which means we won't see all of the UART traffic."
   ]
  },
  {
   "cell_type": "code",
   "execution_count": null,
   "metadata": {},
   "outputs": [],
   "source": [
    "scope.trace.enabled = False\n",
    "scope.LA.enabled = True\n",
    "scope.LA.clk_source = 'pll'\n",
    "scope.LA.oversampling_factor = 4\n",
    "scope.LA.downsample = 1\n",
    "scope.LA.capture_group = 'CW 20-pin'\n",
    "scope.LA.trigger_source = 'falling_tio1'\n",
    "#scope.LA.trigger_source = 'falling_tio2'\n",
    "scope.LA.capture_depth = 16000\n",
    "scope.adc.clip_errors_disabled = True"
   ]
  },
  {
   "cell_type": "markdown",
   "metadata": {},
   "source": [
    "This is so that the internal trigger can be captured by `scope.LA`:"
   ]
  },
  {
   "cell_type": "code",
   "execution_count": null,
   "metadata": {},
   "outputs": [],
   "source": [
    "scope.io.glitch_trig_mcx = 'trigger'"
   ]
  },
  {
   "cell_type": "code",
   "execution_count": null,
   "metadata": {},
   "outputs": [],
   "source": [
    "scope.LA.arm()\n",
    "trace = cw.capture_trace(scope, target, bytearray(16), bytearray(16))"
   ]
  },
  {
   "cell_type": "code",
   "execution_count": null,
   "metadata": {},
   "outputs": [],
   "source": [
    "assert not scope.LA.fifo_empty()\n",
    "raw = scope.LA.read_capture_data()\n",
    "tio1 = scope.LA.extract(raw, 0)\n",
    "tio2 = scope.LA.extract(raw, 1)\n",
    "trig = scope.LA.extract(raw, 7)"
   ]
  },
  {
   "cell_type": "code",
   "execution_count": null,
   "metadata": {},
   "outputs": [],
   "source": [
    "from bokeh.plotting import figure, show\n",
    "from bokeh.resources import INLINE\n",
    "from bokeh.io import output_notebook\n",
    "from bokeh.models import Span, Legend, LegendItem\n",
    "import numpy as np\n",
    "output_notebook(INLINE)\n",
    "\n",
    "o = figure(plot_width=1800)\n",
    "\n",
    "xrange = range(len(tio1))\n",
    "O1 = o.line(xrange, tio1 + 4, line_color='black')\n",
    "O2 = o.line(xrange, tio2 + 2, line_color='blue')\n",
    "O3 = o.line(xrange, trig + 0, line_color='red')\n",
    "\n",
    "legend = Legend(items=[\n",
    "    LegendItem(label='tio1', renderers=[O1]),\n",
    "    LegendItem(label='tio2', renderers=[O2]),\n",
    "    LegendItem(label='internal capture trigger', renderers=[O3]),\n",
    "])\n",
    "o.add_layout(legend)"
   ]
  },
  {
   "cell_type": "code",
   "execution_count": null,
   "metadata": {},
   "outputs": [],
   "source": [
    "show(o)"
   ]
  },
  {
   "cell_type": "markdown",
   "metadata": {},
   "source": [
    "The first falling edge of TIO1 is missed by the `scope.LA` capture (because that's the edge which kicks off the capture).\n",
    "\n",
    "Accounting for that, you can see that the trigger occurs immediately after the third edge of TIO1.\n",
    "\n",
    "You can change `scope.trigger.edges` and see the trigger move around accordingly.\n",
    "\n",
    "If you set it higher than the number of edges that are observed, the capture will time out (because no trigger was generated). If this happens, `scope.trigger.edges_seen` will show how many edges were observed."
   ]
  },
  {
   "cell_type": "code",
   "execution_count": null,
   "metadata": {},
   "outputs": [],
   "source": [
    "scope.trigger.edges_seen"
   ]
  },
  {
   "cell_type": "markdown",
   "metadata": {},
   "source": [
    "Try the other trigger sources (don't forget to adjust `scope.LA.trigger_source` accordingly if you want to see the results via `scope.LA` as above)."
   ]
  },
  {
   "cell_type": "code",
   "execution_count": null,
   "metadata": {},
   "outputs": [],
   "source": []
  }
 ],
 "metadata": {
  "kernelspec": {
   "display_name": "Python 3 (ipykernel)",
   "language": "python",
   "name": "python3"
  },
  "language_info": {
   "codemirror_mode": {
    "name": "ipython",
    "version": 3
   },
   "file_extension": ".py",
   "mimetype": "text/x-python",
   "name": "python",
   "nbconvert_exporter": "python",
   "pygments_lexer": "ipython3",
   "version": "3.10.4"
  }
 },
 "nbformat": 4,
 "nbformat_minor": 4
}
